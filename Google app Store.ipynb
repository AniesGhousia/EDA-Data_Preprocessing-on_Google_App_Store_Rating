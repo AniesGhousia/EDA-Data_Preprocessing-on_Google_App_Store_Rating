{
 "cells": [
  {
   "cell_type": "markdown",
   "id": "30fc20c5",
   "metadata": {},
   "source": [
    "<html>\n",
    "    <head>\n",
    "<span style=\"font-family: Algerian; color:green;font-size:30px;\">\n",
    "    <center><b><u>\n",
    "        Google App Store</u></b>\n",
    "    </center>\n",
    "    </span>\n",
    "        </head>\n",
    "    </html>"
   ]
  },
  {
   "cell_type": "markdown",
   "id": "6f45d43b",
   "metadata": {},
   "source": [
    "Data set Information:\n",
    "Web scraped data of 10k Play Store apps for analyzing the Android market. Each app (row) has values for\n",
    "category, rating, size, and more.\n",
    "\n",
    "<html>\n",
    "    <head>\n",
    "        <style>\n",
    "        table {\n",
    "                font-size: 25px;\n",
    "                }\n",
    "       </style>    \n",
    "    </head>\n",
    "<body>\n",
    "   \n",
    "<table align = left>\n",
    "    <tr>\n",
    "    <th>S.no</th>\n",
    "    <th>Attribute </th>\n",
    "    <th>Description</th>\n",
    "  </tr>\n",
    "    <tr>\n",
    "     <td>1</td>\n",
    "    <td>App</td>\n",
    "    <td>Application name</td>\n",
    "    </tr>\n",
    "    <tr><td>2</td><td>Category</td><td align = left>Category the app belongs to.</td>\n",
    "    </tr>\n",
    "    <tr>\n",
    "        <td>3</td><td>Rating</td><td>Overall user rating of the app</td>\n",
    "    </tr>\n",
    "    <tr>\n",
    "        <td>4</td><td>Size</td><td>Size of the app</td>\n",
    "    </tr>\n",
    "    <tr>\n",
    "        <td>5</td><td>Installs</td><td>Number of user reviews for the app</td>\n",
    "    </tr>\n",
    "    <tr>\n",
    "        <td>6</td><td>Type</td><td>Paid or Free</td>\n",
    "    </tr>\n",
    "    <tr>\n",
    "        <td>7</td><td>Price</td><td>Price of the app</td>\n",
    "    </tr>\n",
    "    <tr>\n",
    "        <td>8</td><td>Content Rating </td><td>Age group the app is targeted at - children/Mature 21+ /Adult</td>\n",
    "    </tr>\n",
    "    <tr>\n",
    "        <td>9</td><td>Genres</td><td>An app can belong to multiple genres (apart from its main category).<br> For eg. a\n",
    "musical family game will belong to Music, Game, Family genres.</td>\n",
    "    </tr>\n",
    "    <tr>\n",
    "        <td>10</td><td>Last Updated </td><td>Date when the app was last updated on play store.</td>\n",
    "    </tr>\n",
    "    <tr>\n",
    "        <td>11</td><td>Current Ver </td><td>Current version of the app available on play store.</td>\n",
    "    </tr>\n",
    "    <tr>\n",
    "        <td>12</td><td>Android Ver </td><td>Min required Android Version.</td>\n",
    "    </tr>\n",
    "</table>\n",
    "\n",
    "</body>\n",
    "</html>"
   ]
  },
  {
   "cell_type": "markdown",
   "id": "225e327f",
   "metadata": {},
   "source": [
    "--------------------------------------------------------------------------------------------------"
   ]
  },
  {
   "cell_type": "markdown",
   "id": "9b4b061a",
   "metadata": {},
   "source": [
    "<html>\n",
    "<span style=\"font-family: Times New Roman; color:#000080; font-size: 18px;\">\n",
    "    <center><b><i>\n",
    "       1. Import required libraries and read the dataset.</i></b>\n",
    "    </center>\n",
    "</span>\n",
    "</html>"
   ]
  },
  {
   "cell_type": "code",
   "execution_count": 1,
   "id": "69a7d78c",
   "metadata": {},
   "outputs": [],
   "source": [
    "# Numerical libraries\n",
    "import math\n",
    "import numpy as np   \n",
    "\n",
    "\n",
    "# to handle data in form of rows and columns \n",
    "import pandas as pd    \n",
    "\n",
    "# importing ploting libraries\n",
    "import matplotlib.pyplot as plt   \n",
    "\n",
    "#importing seaborn for statistical plots\n",
    "import seaborn as sns\n",
    "\n",
    "import statsmodels.formula.api as smf\n",
    "from scipy.stats import zscore\n",
    "from statsmodels.stats.outliers_influence import variance_inflation_factor"
   ]
  },
  {
   "cell_type": "code",
   "execution_count": 2,
   "id": "a9b94d9f",
   "metadata": {},
   "outputs": [
    {
     "data": {
      "text/html": [
       "<div>\n",
       "<style scoped>\n",
       "    .dataframe tbody tr th:only-of-type {\n",
       "        vertical-align: middle;\n",
       "    }\n",
       "\n",
       "    .dataframe tbody tr th {\n",
       "        vertical-align: top;\n",
       "    }\n",
       "\n",
       "    .dataframe thead th {\n",
       "        text-align: right;\n",
       "    }\n",
       "</style>\n",
       "<table border=\"1\" class=\"dataframe\">\n",
       "  <thead>\n",
       "    <tr style=\"text-align: right;\">\n",
       "      <th></th>\n",
       "      <th>App</th>\n",
       "      <th>Category</th>\n",
       "      <th>Rating</th>\n",
       "      <th>Reviews</th>\n",
       "      <th>Size</th>\n",
       "      <th>Installs</th>\n",
       "      <th>Type</th>\n",
       "      <th>Price</th>\n",
       "      <th>Content Rating</th>\n",
       "      <th>Genres</th>\n",
       "      <th>Last Updated</th>\n",
       "      <th>Current Ver</th>\n",
       "      <th>Android Ver</th>\n",
       "    </tr>\n",
       "  </thead>\n",
       "  <tbody>\n",
       "    <tr>\n",
       "      <th>0</th>\n",
       "      <td>Photo Editor &amp; Candy Camera &amp; Grid &amp; ScrapBook</td>\n",
       "      <td>ART_AND_DESIGN</td>\n",
       "      <td>4.1</td>\n",
       "      <td>159</td>\n",
       "      <td>19M</td>\n",
       "      <td>10,000+</td>\n",
       "      <td>Free</td>\n",
       "      <td>0</td>\n",
       "      <td>Everyone</td>\n",
       "      <td>Art &amp; Design</td>\n",
       "      <td>January 7, 2018</td>\n",
       "      <td>1.0.0</td>\n",
       "      <td>4.0.3 and up</td>\n",
       "    </tr>\n",
       "    <tr>\n",
       "      <th>1</th>\n",
       "      <td>Coloring book moana</td>\n",
       "      <td>ART_AND_DESIGN</td>\n",
       "      <td>3.9</td>\n",
       "      <td>967</td>\n",
       "      <td>14M</td>\n",
       "      <td>500,000+</td>\n",
       "      <td>Free</td>\n",
       "      <td>0</td>\n",
       "      <td>Everyone</td>\n",
       "      <td>Art &amp; Design;Pretend Play</td>\n",
       "      <td>January 15, 2018</td>\n",
       "      <td>2.0.0</td>\n",
       "      <td>4.0.3 and up</td>\n",
       "    </tr>\n",
       "    <tr>\n",
       "      <th>2</th>\n",
       "      <td>U Launcher Lite – FREE Live Cool Themes, Hide ...</td>\n",
       "      <td>ART_AND_DESIGN</td>\n",
       "      <td>4.7</td>\n",
       "      <td>87510</td>\n",
       "      <td>8.7M</td>\n",
       "      <td>5,000,000+</td>\n",
       "      <td>Free</td>\n",
       "      <td>0</td>\n",
       "      <td>Everyone</td>\n",
       "      <td>Art &amp; Design</td>\n",
       "      <td>August 1, 2018</td>\n",
       "      <td>1.2.4</td>\n",
       "      <td>4.0.3 and up</td>\n",
       "    </tr>\n",
       "    <tr>\n",
       "      <th>3</th>\n",
       "      <td>Sketch - Draw &amp; Paint</td>\n",
       "      <td>ART_AND_DESIGN</td>\n",
       "      <td>4.5</td>\n",
       "      <td>215644</td>\n",
       "      <td>25M</td>\n",
       "      <td>50,000,000+</td>\n",
       "      <td>Free</td>\n",
       "      <td>0</td>\n",
       "      <td>Teen</td>\n",
       "      <td>Art &amp; Design</td>\n",
       "      <td>June 8, 2018</td>\n",
       "      <td>Varies with device</td>\n",
       "      <td>4.2 and up</td>\n",
       "    </tr>\n",
       "    <tr>\n",
       "      <th>4</th>\n",
       "      <td>Pixel Draw - Number Art Coloring Book</td>\n",
       "      <td>ART_AND_DESIGN</td>\n",
       "      <td>4.3</td>\n",
       "      <td>967</td>\n",
       "      <td>2.8M</td>\n",
       "      <td>100,000+</td>\n",
       "      <td>Free</td>\n",
       "      <td>0</td>\n",
       "      <td>Everyone</td>\n",
       "      <td>Art &amp; Design;Creativity</td>\n",
       "      <td>June 20, 2018</td>\n",
       "      <td>1.1</td>\n",
       "      <td>4.4 and up</td>\n",
       "    </tr>\n",
       "  </tbody>\n",
       "</table>\n",
       "</div>"
      ],
      "text/plain": [
       "                                                 App        Category  Rating  \\\n",
       "0     Photo Editor & Candy Camera & Grid & ScrapBook  ART_AND_DESIGN     4.1   \n",
       "1                                Coloring book moana  ART_AND_DESIGN     3.9   \n",
       "2  U Launcher Lite – FREE Live Cool Themes, Hide ...  ART_AND_DESIGN     4.7   \n",
       "3                              Sketch - Draw & Paint  ART_AND_DESIGN     4.5   \n",
       "4              Pixel Draw - Number Art Coloring Book  ART_AND_DESIGN     4.3   \n",
       "\n",
       "  Reviews  Size     Installs  Type Price Content Rating  \\\n",
       "0     159   19M      10,000+  Free     0       Everyone   \n",
       "1     967   14M     500,000+  Free     0       Everyone   \n",
       "2   87510  8.7M   5,000,000+  Free     0       Everyone   \n",
       "3  215644   25M  50,000,000+  Free     0           Teen   \n",
       "4     967  2.8M     100,000+  Free     0       Everyone   \n",
       "\n",
       "                      Genres      Last Updated         Current Ver  \\\n",
       "0               Art & Design   January 7, 2018               1.0.0   \n",
       "1  Art & Design;Pretend Play  January 15, 2018               2.0.0   \n",
       "2               Art & Design    August 1, 2018               1.2.4   \n",
       "3               Art & Design      June 8, 2018  Varies with device   \n",
       "4    Art & Design;Creativity     June 20, 2018                 1.1   \n",
       "\n",
       "    Android Ver  \n",
       "0  4.0.3 and up  \n",
       "1  4.0.3 and up  \n",
       "2  4.0.3 and up  \n",
       "3    4.2 and up  \n",
       "4    4.4 and up  "
      ]
     },
     "execution_count": 2,
     "metadata": {},
     "output_type": "execute_result"
    }
   ],
   "source": [
    "g_df = pd.read_csv(\"Google play store .csv\")\n",
    "g_df.head()"
   ]
  },
  {
   "cell_type": "markdown",
   "id": "690ea57e",
   "metadata": {},
   "source": [
    "<html>\n",
    "    <head>\n",
    "        <body>\n",
    "            <h3><u><font color = green> Observations :</font></u></h3><br>\n",
    "            <li>We can import the necessary pandas library and read the dataset using the <b><i><font color=#C1063C>pd.read_csv() function.</font></i></b></li><br>\n",
    " <li>The head() function is then used to <b><i><font color=#C1063C>display the first few rows of the dataset</font></i></b>, allowing us to get a glimpse of the data structure and the variables present.</li><br>\n",
    " <li>After running the code, we will see the first few rows of the dataset printed in the console. This will provide an overview of the dataset, including the column names and the corresponding values for each row.</li><br>\n",
    "                </body>\n",
    "    </head>\n",
    "</html>"
   ]
  },
  {
   "cell_type": "markdown",
   "id": "993cf32d",
   "metadata": {},
   "source": [
    "--------------------------------------------------------------------------------------------------"
   ]
  },
  {
   "cell_type": "markdown",
   "id": "75a49f61",
   "metadata": {},
   "source": [
    "<html>\n",
    "<span style=\"font-family: Times New Roman; color:#000080; font-size: 18px;\">\n",
    "    <center><b><i>\n",
    "       2. Check the first few samples, shape, info of the data and try to familiarize yourself with different features.</i></b>\n",
    "    </center>\n",
    "</span>\n",
    "</html>"
   ]
  },
  {
   "cell_type": "code",
   "execution_count": 3,
   "id": "6b743b11",
   "metadata": {},
   "outputs": [
    {
     "data": {
      "text/html": [
       "<div>\n",
       "<style scoped>\n",
       "    .dataframe tbody tr th:only-of-type {\n",
       "        vertical-align: middle;\n",
       "    }\n",
       "\n",
       "    .dataframe tbody tr th {\n",
       "        vertical-align: top;\n",
       "    }\n",
       "\n",
       "    .dataframe thead th {\n",
       "        text-align: right;\n",
       "    }\n",
       "</style>\n",
       "<table border=\"1\" class=\"dataframe\">\n",
       "  <thead>\n",
       "    <tr style=\"text-align: right;\">\n",
       "      <th></th>\n",
       "      <th>App</th>\n",
       "      <th>Category</th>\n",
       "      <th>Rating</th>\n",
       "      <th>Reviews</th>\n",
       "      <th>Size</th>\n",
       "      <th>Installs</th>\n",
       "      <th>Type</th>\n",
       "      <th>Price</th>\n",
       "      <th>Content Rating</th>\n",
       "      <th>Genres</th>\n",
       "      <th>Last Updated</th>\n",
       "      <th>Current Ver</th>\n",
       "      <th>Android Ver</th>\n",
       "    </tr>\n",
       "  </thead>\n",
       "  <tbody>\n",
       "    <tr>\n",
       "      <th>0</th>\n",
       "      <td>Photo Editor &amp; Candy Camera &amp; Grid &amp; ScrapBook</td>\n",
       "      <td>ART_AND_DESIGN</td>\n",
       "      <td>4.1</td>\n",
       "      <td>159</td>\n",
       "      <td>19M</td>\n",
       "      <td>10,000+</td>\n",
       "      <td>Free</td>\n",
       "      <td>0</td>\n",
       "      <td>Everyone</td>\n",
       "      <td>Art &amp; Design</td>\n",
       "      <td>January 7, 2018</td>\n",
       "      <td>1.0.0</td>\n",
       "      <td>4.0.3 and up</td>\n",
       "    </tr>\n",
       "    <tr>\n",
       "      <th>1</th>\n",
       "      <td>Coloring book moana</td>\n",
       "      <td>ART_AND_DESIGN</td>\n",
       "      <td>3.9</td>\n",
       "      <td>967</td>\n",
       "      <td>14M</td>\n",
       "      <td>500,000+</td>\n",
       "      <td>Free</td>\n",
       "      <td>0</td>\n",
       "      <td>Everyone</td>\n",
       "      <td>Art &amp; Design;Pretend Play</td>\n",
       "      <td>January 15, 2018</td>\n",
       "      <td>2.0.0</td>\n",
       "      <td>4.0.3 and up</td>\n",
       "    </tr>\n",
       "    <tr>\n",
       "      <th>2</th>\n",
       "      <td>U Launcher Lite – FREE Live Cool Themes, Hide ...</td>\n",
       "      <td>ART_AND_DESIGN</td>\n",
       "      <td>4.7</td>\n",
       "      <td>87510</td>\n",
       "      <td>8.7M</td>\n",
       "      <td>5,000,000+</td>\n",
       "      <td>Free</td>\n",
       "      <td>0</td>\n",
       "      <td>Everyone</td>\n",
       "      <td>Art &amp; Design</td>\n",
       "      <td>August 1, 2018</td>\n",
       "      <td>1.2.4</td>\n",
       "      <td>4.0.3 and up</td>\n",
       "    </tr>\n",
       "    <tr>\n",
       "      <th>3</th>\n",
       "      <td>Sketch - Draw &amp; Paint</td>\n",
       "      <td>ART_AND_DESIGN</td>\n",
       "      <td>4.5</td>\n",
       "      <td>215644</td>\n",
       "      <td>25M</td>\n",
       "      <td>50,000,000+</td>\n",
       "      <td>Free</td>\n",
       "      <td>0</td>\n",
       "      <td>Teen</td>\n",
       "      <td>Art &amp; Design</td>\n",
       "      <td>June 8, 2018</td>\n",
       "      <td>Varies with device</td>\n",
       "      <td>4.2 and up</td>\n",
       "    </tr>\n",
       "    <tr>\n",
       "      <th>4</th>\n",
       "      <td>Pixel Draw - Number Art Coloring Book</td>\n",
       "      <td>ART_AND_DESIGN</td>\n",
       "      <td>4.3</td>\n",
       "      <td>967</td>\n",
       "      <td>2.8M</td>\n",
       "      <td>100,000+</td>\n",
       "      <td>Free</td>\n",
       "      <td>0</td>\n",
       "      <td>Everyone</td>\n",
       "      <td>Art &amp; Design;Creativity</td>\n",
       "      <td>June 20, 2018</td>\n",
       "      <td>1.1</td>\n",
       "      <td>4.4 and up</td>\n",
       "    </tr>\n",
       "  </tbody>\n",
       "</table>\n",
       "</div>"
      ],
      "text/plain": [
       "                                                 App        Category  Rating  \\\n",
       "0     Photo Editor & Candy Camera & Grid & ScrapBook  ART_AND_DESIGN     4.1   \n",
       "1                                Coloring book moana  ART_AND_DESIGN     3.9   \n",
       "2  U Launcher Lite – FREE Live Cool Themes, Hide ...  ART_AND_DESIGN     4.7   \n",
       "3                              Sketch - Draw & Paint  ART_AND_DESIGN     4.5   \n",
       "4              Pixel Draw - Number Art Coloring Book  ART_AND_DESIGN     4.3   \n",
       "\n",
       "  Reviews  Size     Installs  Type Price Content Rating  \\\n",
       "0     159   19M      10,000+  Free     0       Everyone   \n",
       "1     967   14M     500,000+  Free     0       Everyone   \n",
       "2   87510  8.7M   5,000,000+  Free     0       Everyone   \n",
       "3  215644   25M  50,000,000+  Free     0           Teen   \n",
       "4     967  2.8M     100,000+  Free     0       Everyone   \n",
       "\n",
       "                      Genres      Last Updated         Current Ver  \\\n",
       "0               Art & Design   January 7, 2018               1.0.0   \n",
       "1  Art & Design;Pretend Play  January 15, 2018               2.0.0   \n",
       "2               Art & Design    August 1, 2018               1.2.4   \n",
       "3               Art & Design      June 8, 2018  Varies with device   \n",
       "4    Art & Design;Creativity     June 20, 2018                 1.1   \n",
       "\n",
       "    Android Ver  \n",
       "0  4.0.3 and up  \n",
       "1  4.0.3 and up  \n",
       "2  4.0.3 and up  \n",
       "3    4.2 and up  \n",
       "4    4.4 and up  "
      ]
     },
     "execution_count": 3,
     "metadata": {},
     "output_type": "execute_result"
    }
   ],
   "source": [
    "g_df.head()"
   ]
  },
  {
   "cell_type": "code",
   "execution_count": 4,
   "id": "30bd0c59",
   "metadata": {},
   "outputs": [
    {
     "data": {
      "text/html": [
       "<div>\n",
       "<style scoped>\n",
       "    .dataframe tbody tr th:only-of-type {\n",
       "        vertical-align: middle;\n",
       "    }\n",
       "\n",
       "    .dataframe tbody tr th {\n",
       "        vertical-align: top;\n",
       "    }\n",
       "\n",
       "    .dataframe thead th {\n",
       "        text-align: right;\n",
       "    }\n",
       "</style>\n",
       "<table border=\"1\" class=\"dataframe\">\n",
       "  <thead>\n",
       "    <tr style=\"text-align: right;\">\n",
       "      <th></th>\n",
       "      <th>App</th>\n",
       "      <th>Category</th>\n",
       "      <th>Rating</th>\n",
       "      <th>Reviews</th>\n",
       "      <th>Size</th>\n",
       "      <th>Installs</th>\n",
       "      <th>Type</th>\n",
       "      <th>Price</th>\n",
       "      <th>Content Rating</th>\n",
       "      <th>Genres</th>\n",
       "      <th>Last Updated</th>\n",
       "      <th>Current Ver</th>\n",
       "      <th>Android Ver</th>\n",
       "    </tr>\n",
       "  </thead>\n",
       "  <tbody>\n",
       "    <tr>\n",
       "      <th>10836</th>\n",
       "      <td>Sya9a Maroc - FR</td>\n",
       "      <td>FAMILY</td>\n",
       "      <td>4.5</td>\n",
       "      <td>38</td>\n",
       "      <td>53M</td>\n",
       "      <td>5,000+</td>\n",
       "      <td>Free</td>\n",
       "      <td>0</td>\n",
       "      <td>Everyone</td>\n",
       "      <td>Education</td>\n",
       "      <td>July 25, 2017</td>\n",
       "      <td>1.48</td>\n",
       "      <td>4.1 and up</td>\n",
       "    </tr>\n",
       "    <tr>\n",
       "      <th>10837</th>\n",
       "      <td>Fr. Mike Schmitz Audio Teachings</td>\n",
       "      <td>FAMILY</td>\n",
       "      <td>5.0</td>\n",
       "      <td>4</td>\n",
       "      <td>3.6M</td>\n",
       "      <td>100+</td>\n",
       "      <td>Free</td>\n",
       "      <td>0</td>\n",
       "      <td>Everyone</td>\n",
       "      <td>Education</td>\n",
       "      <td>July 6, 2018</td>\n",
       "      <td>1.0</td>\n",
       "      <td>4.1 and up</td>\n",
       "    </tr>\n",
       "    <tr>\n",
       "      <th>10838</th>\n",
       "      <td>Parkinson Exercices FR</td>\n",
       "      <td>MEDICAL</td>\n",
       "      <td>NaN</td>\n",
       "      <td>3</td>\n",
       "      <td>9.5M</td>\n",
       "      <td>1,000+</td>\n",
       "      <td>Free</td>\n",
       "      <td>0</td>\n",
       "      <td>Everyone</td>\n",
       "      <td>Medical</td>\n",
       "      <td>January 20, 2017</td>\n",
       "      <td>1.0</td>\n",
       "      <td>2.2 and up</td>\n",
       "    </tr>\n",
       "    <tr>\n",
       "      <th>10839</th>\n",
       "      <td>The SCP Foundation DB fr nn5n</td>\n",
       "      <td>BOOKS_AND_REFERENCE</td>\n",
       "      <td>4.5</td>\n",
       "      <td>114</td>\n",
       "      <td>Varies with device</td>\n",
       "      <td>1,000+</td>\n",
       "      <td>Free</td>\n",
       "      <td>0</td>\n",
       "      <td>Mature 17+</td>\n",
       "      <td>Books &amp; Reference</td>\n",
       "      <td>January 19, 2015</td>\n",
       "      <td>Varies with device</td>\n",
       "      <td>Varies with device</td>\n",
       "    </tr>\n",
       "    <tr>\n",
       "      <th>10840</th>\n",
       "      <td>iHoroscope - 2018 Daily Horoscope &amp; Astrology</td>\n",
       "      <td>LIFESTYLE</td>\n",
       "      <td>4.5</td>\n",
       "      <td>398307</td>\n",
       "      <td>19M</td>\n",
       "      <td>10,000,000+</td>\n",
       "      <td>Free</td>\n",
       "      <td>0</td>\n",
       "      <td>Everyone</td>\n",
       "      <td>Lifestyle</td>\n",
       "      <td>July 25, 2018</td>\n",
       "      <td>Varies with device</td>\n",
       "      <td>Varies with device</td>\n",
       "    </tr>\n",
       "  </tbody>\n",
       "</table>\n",
       "</div>"
      ],
      "text/plain": [
       "                                                 App             Category  \\\n",
       "10836                               Sya9a Maroc - FR               FAMILY   \n",
       "10837               Fr. Mike Schmitz Audio Teachings               FAMILY   \n",
       "10838                         Parkinson Exercices FR              MEDICAL   \n",
       "10839                  The SCP Foundation DB fr nn5n  BOOKS_AND_REFERENCE   \n",
       "10840  iHoroscope - 2018 Daily Horoscope & Astrology            LIFESTYLE   \n",
       "\n",
       "       Rating Reviews                Size     Installs  Type Price  \\\n",
       "10836     4.5      38                 53M       5,000+  Free     0   \n",
       "10837     5.0       4                3.6M         100+  Free     0   \n",
       "10838     NaN       3                9.5M       1,000+  Free     0   \n",
       "10839     4.5     114  Varies with device       1,000+  Free     0   \n",
       "10840     4.5  398307                 19M  10,000,000+  Free     0   \n",
       "\n",
       "      Content Rating             Genres      Last Updated         Current Ver  \\\n",
       "10836       Everyone          Education     July 25, 2017                1.48   \n",
       "10837       Everyone          Education      July 6, 2018                 1.0   \n",
       "10838       Everyone            Medical  January 20, 2017                 1.0   \n",
       "10839     Mature 17+  Books & Reference  January 19, 2015  Varies with device   \n",
       "10840       Everyone          Lifestyle     July 25, 2018  Varies with device   \n",
       "\n",
       "              Android Ver  \n",
       "10836          4.1 and up  \n",
       "10837          4.1 and up  \n",
       "10838          2.2 and up  \n",
       "10839  Varies with device  \n",
       "10840  Varies with device  "
      ]
     },
     "execution_count": 4,
     "metadata": {},
     "output_type": "execute_result"
    }
   ],
   "source": [
    "g_df.tail()\n"
   ]
  },
  {
   "cell_type": "code",
   "execution_count": 5,
   "id": "4a98806b",
   "metadata": {},
   "outputs": [
    {
     "data": {
      "text/plain": [
       "(10841, 13)"
      ]
     },
     "execution_count": 5,
     "metadata": {},
     "output_type": "execute_result"
    }
   ],
   "source": [
    "g_df.shape"
   ]
  },
  {
   "cell_type": "code",
   "execution_count": 6,
   "id": "c94e5819",
   "metadata": {},
   "outputs": [
    {
     "name": "stdout",
     "output_type": "stream",
     "text": [
      "<class 'pandas.core.frame.DataFrame'>\n",
      "RangeIndex: 10841 entries, 0 to 10840\n",
      "Data columns (total 13 columns):\n",
      " #   Column          Non-Null Count  Dtype  \n",
      "---  ------          --------------  -----  \n",
      " 0   App             10841 non-null  object \n",
      " 1   Category        10841 non-null  object \n",
      " 2   Rating          9367 non-null   float64\n",
      " 3   Reviews         10841 non-null  object \n",
      " 4   Size            10841 non-null  object \n",
      " 5   Installs        10841 non-null  object \n",
      " 6   Type            10840 non-null  object \n",
      " 7   Price           10841 non-null  object \n",
      " 8   Content Rating  10840 non-null  object \n",
      " 9   Genres          10841 non-null  object \n",
      " 10  Last Updated    10841 non-null  object \n",
      " 11  Current Ver     10833 non-null  object \n",
      " 12  Android Ver     10838 non-null  object \n",
      "dtypes: float64(1), object(12)\n",
      "memory usage: 1.1+ MB\n"
     ]
    }
   ],
   "source": [
    "g_df.info()"
   ]
  },
  {
   "cell_type": "markdown",
   "id": "2e9d0b6a",
   "metadata": {},
   "source": [
    "<html>\n",
    "    <head>\n",
    "        <body>\n",
    "            <h3><u><font color = green> Observations :</font></u></h3><br>\n",
    "            <p>Based on the printed dataset, we can make initial inferences and observations about the data, such as:</p><br>\n",
    " <li>The shape of the datatype can be obtained by <b><i><font color=#C1063C> shape() method.</font></i></b>There are  <b><i><font color=#C1063C> 10841 rows</font></i></b> and <b><i><font color=#C1063C> 13 columns.</font></i></b></li><br>\n",
    " <li>The data types of the columns are <b><i><font color=#C1063C> object</font></i></b> and <b><i><font color=#C1063C> float.</font></i></b></li><br>\n",
    "  <li>There are missing values in the columns of <b><i><font color=#C1063C> Rating,Type ,Content Rating ,Current Ver,</font></i></b> and <b><i><font color=#C1063C> Android Ver </font></i></b>in the dataset.</li><br>\n",
    " <li>The memory usage of the dataset is <b><i><font color=#C1063C> 1.1 MB</font></i></b></li><br>\n",
    "           </body>\n",
    "    </head>\n",
    "</html>"
   ]
  },
  {
   "cell_type": "markdown",
   "id": "09bd8726",
   "metadata": {},
   "source": [
    "--------------------------------------------------------------------------------------------------"
   ]
  },
  {
   "cell_type": "markdown",
   "id": "afd63485",
   "metadata": {},
   "source": [
    "<html>\n",
    "<span style=\"font-family: Times New Roman; color:#000080; font-size: 18px;\">\n",
    "    <center><b><i>\n",
    "       3. Check summary statistics of the dataset. List out the columns that need to be worked upon for model building.</i></b>\n",
    "    </center>\n",
    "</span>\n",
    "</html>"
   ]
  },
  {
   "cell_type": "code",
   "execution_count": 7,
   "id": "2477d754",
   "metadata": {},
   "outputs": [
    {
     "data": {
      "text/html": [
       "<div>\n",
       "<style scoped>\n",
       "    .dataframe tbody tr th:only-of-type {\n",
       "        vertical-align: middle;\n",
       "    }\n",
       "\n",
       "    .dataframe tbody tr th {\n",
       "        vertical-align: top;\n",
       "    }\n",
       "\n",
       "    .dataframe thead th {\n",
       "        text-align: right;\n",
       "    }\n",
       "</style>\n",
       "<table border=\"1\" class=\"dataframe\">\n",
       "  <thead>\n",
       "    <tr style=\"text-align: right;\">\n",
       "      <th></th>\n",
       "      <th>count</th>\n",
       "      <th>mean</th>\n",
       "      <th>std</th>\n",
       "      <th>min</th>\n",
       "      <th>25%</th>\n",
       "      <th>50%</th>\n",
       "      <th>75%</th>\n",
       "      <th>max</th>\n",
       "    </tr>\n",
       "  </thead>\n",
       "  <tbody>\n",
       "    <tr>\n",
       "      <th>Rating</th>\n",
       "      <td>9367.0</td>\n",
       "      <td>4.193338</td>\n",
       "      <td>0.537431</td>\n",
       "      <td>1.0</td>\n",
       "      <td>4.0</td>\n",
       "      <td>4.3</td>\n",
       "      <td>4.5</td>\n",
       "      <td>19.0</td>\n",
       "    </tr>\n",
       "  </tbody>\n",
       "</table>\n",
       "</div>"
      ],
      "text/plain": [
       "         count      mean       std  min  25%  50%  75%   max\n",
       "Rating  9367.0  4.193338  0.537431  1.0  4.0  4.3  4.5  19.0"
      ]
     },
     "execution_count": 7,
     "metadata": {},
     "output_type": "execute_result"
    }
   ],
   "source": [
    "# Description of numerical columns\n",
    "g_df.describe().transpose()"
   ]
  },
  {
   "cell_type": "code",
   "execution_count": 8,
   "id": "d2fb7a7b",
   "metadata": {},
   "outputs": [
    {
     "data": {
      "text/html": [
       "<div>\n",
       "<style scoped>\n",
       "    .dataframe tbody tr th:only-of-type {\n",
       "        vertical-align: middle;\n",
       "    }\n",
       "\n",
       "    .dataframe tbody tr th {\n",
       "        vertical-align: top;\n",
       "    }\n",
       "\n",
       "    .dataframe thead th {\n",
       "        text-align: right;\n",
       "    }\n",
       "</style>\n",
       "<table border=\"1\" class=\"dataframe\">\n",
       "  <thead>\n",
       "    <tr style=\"text-align: right;\">\n",
       "      <th></th>\n",
       "      <th>count</th>\n",
       "      <th>unique</th>\n",
       "      <th>top</th>\n",
       "      <th>freq</th>\n",
       "    </tr>\n",
       "  </thead>\n",
       "  <tbody>\n",
       "    <tr>\n",
       "      <th>App</th>\n",
       "      <td>10841</td>\n",
       "      <td>9660</td>\n",
       "      <td>ROBLOX</td>\n",
       "      <td>9</td>\n",
       "    </tr>\n",
       "    <tr>\n",
       "      <th>Category</th>\n",
       "      <td>10841</td>\n",
       "      <td>34</td>\n",
       "      <td>FAMILY</td>\n",
       "      <td>1972</td>\n",
       "    </tr>\n",
       "    <tr>\n",
       "      <th>Reviews</th>\n",
       "      <td>10841</td>\n",
       "      <td>6002</td>\n",
       "      <td>0</td>\n",
       "      <td>596</td>\n",
       "    </tr>\n",
       "    <tr>\n",
       "      <th>Size</th>\n",
       "      <td>10841</td>\n",
       "      <td>462</td>\n",
       "      <td>Varies with device</td>\n",
       "      <td>1695</td>\n",
       "    </tr>\n",
       "    <tr>\n",
       "      <th>Installs</th>\n",
       "      <td>10841</td>\n",
       "      <td>22</td>\n",
       "      <td>1,000,000+</td>\n",
       "      <td>1579</td>\n",
       "    </tr>\n",
       "    <tr>\n",
       "      <th>Type</th>\n",
       "      <td>10840</td>\n",
       "      <td>3</td>\n",
       "      <td>Free</td>\n",
       "      <td>10039</td>\n",
       "    </tr>\n",
       "    <tr>\n",
       "      <th>Price</th>\n",
       "      <td>10841</td>\n",
       "      <td>93</td>\n",
       "      <td>0</td>\n",
       "      <td>10040</td>\n",
       "    </tr>\n",
       "    <tr>\n",
       "      <th>Content Rating</th>\n",
       "      <td>10840</td>\n",
       "      <td>6</td>\n",
       "      <td>Everyone</td>\n",
       "      <td>8714</td>\n",
       "    </tr>\n",
       "    <tr>\n",
       "      <th>Genres</th>\n",
       "      <td>10841</td>\n",
       "      <td>120</td>\n",
       "      <td>Tools</td>\n",
       "      <td>842</td>\n",
       "    </tr>\n",
       "    <tr>\n",
       "      <th>Last Updated</th>\n",
       "      <td>10841</td>\n",
       "      <td>1378</td>\n",
       "      <td>August 3, 2018</td>\n",
       "      <td>326</td>\n",
       "    </tr>\n",
       "    <tr>\n",
       "      <th>Current Ver</th>\n",
       "      <td>10833</td>\n",
       "      <td>2832</td>\n",
       "      <td>Varies with device</td>\n",
       "      <td>1459</td>\n",
       "    </tr>\n",
       "    <tr>\n",
       "      <th>Android Ver</th>\n",
       "      <td>10838</td>\n",
       "      <td>33</td>\n",
       "      <td>4.1 and up</td>\n",
       "      <td>2451</td>\n",
       "    </tr>\n",
       "  </tbody>\n",
       "</table>\n",
       "</div>"
      ],
      "text/plain": [
       "                count unique                 top   freq\n",
       "App             10841   9660              ROBLOX      9\n",
       "Category        10841     34              FAMILY   1972\n",
       "Reviews         10841   6002                   0    596\n",
       "Size            10841    462  Varies with device   1695\n",
       "Installs        10841     22          1,000,000+   1579\n",
       "Type            10840      3                Free  10039\n",
       "Price           10841     93                   0  10040\n",
       "Content Rating  10840      6            Everyone   8714\n",
       "Genres          10841    120               Tools    842\n",
       "Last Updated    10841   1378      August 3, 2018    326\n",
       "Current Ver     10833   2832  Varies with device   1459\n",
       "Android Ver     10838     33          4.1 and up   2451"
      ]
     },
     "execution_count": 8,
     "metadata": {},
     "output_type": "execute_result"
    }
   ],
   "source": [
    "# Description of Categorical columns\n",
    "g_df.describe(include='O').transpose()"
   ]
  },
  {
   "cell_type": "markdown",
   "id": "be64123e",
   "metadata": {},
   "source": [
    "<html>\n",
    "    <head>\n",
    "    </head>\n",
    "    <body>\n",
    "     <h3><u><font color = green> Observations :</font></u></h3>   \n",
    "    <p><li> In this code,<b><i><font color=#C1063C> describe().transpose function</font></i></b> is called on the DataFrame g_df to generate summary statistics for  <b><i><font color=#C1063C>numerical columns</font></i></b> </li> <br>\n",
    "        <li>By default, describe() provides summary statistics for numerical columns, including count, mean, standard deviation, minimum value, 25th percentile, median (50th percentile), 75th percentile, and maximum value.</li><br> \n",
    "        <li><b><i><font color=#C1063C>Include object</font></i></b> method has been used to describe each categorical columns and if we exclude object only numerical columns will be excuted or we can mention it as only describe() to execute numerical values.</li><br>\n",
    "    <li>The code then prints the summary statistics for both numerical and categorical columns separately.</li><br>\n",
    "    </p>\n",
    "    </body>\n",
    "    </html>"
   ]
  },
  {
   "cell_type": "markdown",
   "id": "b0fbdf2e",
   "metadata": {},
   "source": [
    "--------------------------------------------------------------------------------------------------"
   ]
  },
  {
   "cell_type": "markdown",
   "id": "abeaaff7",
   "metadata": {},
   "source": [
    "<html>\n",
    "<span style=\"font-family: Times New Roman; color:#000080; font-size: 18px;\">\n",
    "    <center><b><i>\n",
    "       4. Check if there are any duplicate records in the dataset? if any drop them.</i></b>\n",
    "    </center>\n",
    "</span>\n",
    "</html>"
   ]
  },
  {
   "cell_type": "code",
   "execution_count": 9,
   "id": "fe2e2394",
   "metadata": {},
   "outputs": [
    {
     "data": {
      "text/plain": [
       "483"
      ]
     },
     "execution_count": 9,
     "metadata": {},
     "output_type": "execute_result"
    }
   ],
   "source": [
    "# To get the duplicates of the dataset\n",
    "\n",
    "duplicate = g_df.duplicated().sum()\n",
    "duplicate"
   ]
  },
  {
   "cell_type": "code",
   "execution_count": 10,
   "id": "e68d62bd",
   "metadata": {},
   "outputs": [],
   "source": [
    "# To drop the duplicates of the dataset\n",
    "\n",
    "g_df.drop_duplicates(inplace = True)"
   ]
  },
  {
   "cell_type": "code",
   "execution_count": 11,
   "id": "22f9f0d6",
   "metadata": {},
   "outputs": [
    {
     "data": {
      "text/plain": [
       "0"
      ]
     },
     "execution_count": 11,
     "metadata": {},
     "output_type": "execute_result"
    }
   ],
   "source": [
    "# To check whether the duplicates are dropped are not\n",
    "g_df.duplicated().sum()"
   ]
  },
  {
   "cell_type": "markdown",
   "id": "e2641640",
   "metadata": {},
   "source": [
    "<html>\n",
    "    <head>\n",
    "        <body>\n",
    "            <h3><u><font color = green> Observations :</font></u></h3><br>\n",
    "            <li>The method <b><i><font color=#C1063C>duplicated() </font></i></b>method on the DataFrame df to identify duplicate records. The result is a boolean Series where True indicates a duplicate record and False indicates a unique record.</li><br>\n",
    "\n",
    "<li>The code employs the <b><i><font color=#C1063C>sum() </font></i></b>function on the boolean Series to count the number of duplicate records. This count is stored in the variable duplicate</li><br>\n",
    "\n",
    " <li>If the count of duplicate records (duplicate) is greater than zero, the code proceeds to remove the duplicate records using the <b><i><font color=#C1063C>drop_duplicates() </font></i></b>method.</li><br>\n",
    "            <li>The code <b><i><font color=#C1063C>inplaced = True </font></i></b>inside the drop duplicates method reflect the change in the original database.</li><br>\n",
    "                         </body>\n",
    "    </head>\n",
    "</html>"
   ]
  },
  {
   "cell_type": "markdown",
   "id": "13adc207",
   "metadata": {},
   "source": [
    "--------------------------------------------------------------------------------------------------"
   ]
  },
  {
   "cell_type": "markdown",
   "id": "a2c8db1b",
   "metadata": {},
   "source": [
    "<html>\n",
    "<span style=\"font-family: Times New Roman; color:#000080; font-size: 18px;\">\n",
    "    <center><b><i>\n",
    "       5. Check the unique categories of the column 'Category', Is there any invalid category? If yes, drop them.</i></b>\n",
    "    </center>\n",
    "</span>\n",
    "</html>"
   ]
  },
  {
   "cell_type": "code",
   "execution_count": 12,
   "id": "78628bd4",
   "metadata": {},
   "outputs": [
    {
     "data": {
      "text/plain": [
       "array(['ART_AND_DESIGN', 'AUTO_AND_VEHICLES', 'BEAUTY',\n",
       "       'BOOKS_AND_REFERENCE', 'BUSINESS', 'COMICS', 'COMMUNICATION',\n",
       "       'DATING', 'EDUCATION', 'ENTERTAINMENT', 'EVENTS', 'FINANCE',\n",
       "       'FOOD_AND_DRINK', 'HEALTH_AND_FITNESS', 'HOUSE_AND_HOME',\n",
       "       'LIBRARIES_AND_DEMO', 'LIFESTYLE', 'GAME', 'FAMILY', 'MEDICAL',\n",
       "       'SOCIAL', 'SHOPPING', 'PHOTOGRAPHY', 'SPORTS', 'TRAVEL_AND_LOCAL',\n",
       "       'TOOLS', 'PERSONALIZATION', 'PRODUCTIVITY', 'PARENTING', 'WEATHER',\n",
       "       'VIDEO_PLAYERS', 'NEWS_AND_MAGAZINES', 'MAPS_AND_NAVIGATION',\n",
       "       '1.9'], dtype=object)"
      ]
     },
     "execution_count": 12,
     "metadata": {},
     "output_type": "execute_result"
    }
   ],
   "source": [
    "# To Check the unique data in the 'Category column'\n",
    "\n",
    "g_df['Category'].unique()\n"
   ]
  },
  {
   "cell_type": "code",
   "execution_count": 13,
   "id": "bd396be8",
   "metadata": {},
   "outputs": [
    {
     "data": {
      "text/plain": [
       "Int64Index([10472], dtype='int64')"
      ]
     },
     "execution_count": 13,
     "metadata": {},
     "output_type": "execute_result"
    }
   ],
   "source": [
    "# Store the invalid data in 'a'\n",
    "\n",
    "a = g_df[g_df['Category']==\"1.9\"].index\n",
    "a"
   ]
  },
  {
   "cell_type": "code",
   "execution_count": 14,
   "id": "8c05321e",
   "metadata": {},
   "outputs": [],
   "source": [
    "# Drop the invalid category\n",
    "\n",
    "g_df.drop(a , inplace =True)"
   ]
  },
  {
   "cell_type": "code",
   "execution_count": 15,
   "id": "b41bccdf",
   "metadata": {},
   "outputs": [
    {
     "data": {
      "text/plain": [
       "array(['ART_AND_DESIGN', 'AUTO_AND_VEHICLES', 'BEAUTY',\n",
       "       'BOOKS_AND_REFERENCE', 'BUSINESS', 'COMICS', 'COMMUNICATION',\n",
       "       'DATING', 'EDUCATION', 'ENTERTAINMENT', 'EVENTS', 'FINANCE',\n",
       "       'FOOD_AND_DRINK', 'HEALTH_AND_FITNESS', 'HOUSE_AND_HOME',\n",
       "       'LIBRARIES_AND_DEMO', 'LIFESTYLE', 'GAME', 'FAMILY', 'MEDICAL',\n",
       "       'SOCIAL', 'SHOPPING', 'PHOTOGRAPHY', 'SPORTS', 'TRAVEL_AND_LOCAL',\n",
       "       'TOOLS', 'PERSONALIZATION', 'PRODUCTIVITY', 'PARENTING', 'WEATHER',\n",
       "       'VIDEO_PLAYERS', 'NEWS_AND_MAGAZINES', 'MAPS_AND_NAVIGATION'],\n",
       "      dtype=object)"
      ]
     },
     "execution_count": 15,
     "metadata": {},
     "output_type": "execute_result"
    }
   ],
   "source": [
    "g_df['Category'].unique()"
   ]
  },
  {
   "cell_type": "code",
   "execution_count": 16,
   "id": "b9d8cfbe",
   "metadata": {},
   "outputs": [
    {
     "data": {
      "text/plain": [
       "(10357, 13)"
      ]
     },
     "execution_count": 16,
     "metadata": {},
     "output_type": "execute_result"
    }
   ],
   "source": [
    "g_df.shape"
   ]
  },
  {
   "cell_type": "markdown",
   "id": "84da57ae",
   "metadata": {},
   "source": [
    "<html>\n",
    "    <head>\n",
    "        <body>\n",
    "            <h3><u><font color = green> Observations :</font></u></h3><br>\n",
    "                <li>The unique category of the column <b><i><font color=#C1063C>'category'</font></i></b> can be identified by the command g_df['Category'].unique()</li><br>\n",
    "               <li> While reviewing the category column there is one data which is invalid i.e <b><i><font color=#C1063C>1.9</font></i></b></li><br>\n",
    "                <li>Hence the data 1.9 has been stored in another variable<b><i><font color=#C1063C> 'a'.</font></i></b></li><br>\n",
    "                <li>Then it is dropped by the command - <b><i><font color=#C1063C>g_df.drop(a , inplace =True) </font></i></b>where <b><i><font color=#C1063C>inplace = True </font></i></b>is used to reflect the change in the original dataset.</li><br>\n",
    "        </body>\n",
    "    </head>\n",
    "</html>"
   ]
  },
  {
   "cell_type": "markdown",
   "id": "a7c0f77f",
   "metadata": {},
   "source": [
    "-------------------------------------------------------------------------------------------------"
   ]
  },
  {
   "cell_type": "markdown",
   "id": "a1770c87",
   "metadata": {},
   "source": [
    "<html>\n",
    "<span style=\"font-family: Times New Roman; color:#000080; font-size: 18px;\">\n",
    "    <center><b><i>\n",
    "       6. Check if there are missing values present in the column Rating, If any? drop them and and create a new column as 'Rating_category' by converting ratings to high and low categories(>3.5 is high rest low)</i></b>\n",
    "    </center>\n",
    "</span>\n",
    "</html>"
   ]
  },
  {
   "cell_type": "code",
   "execution_count": 17,
   "id": "e545dede",
   "metadata": {},
   "outputs": [
    {
     "name": "stdout",
     "output_type": "stream",
     "text": [
      "<class 'pandas.core.frame.DataFrame'>\n",
      "Int64Index: 10357 entries, 0 to 10840\n",
      "Data columns (total 13 columns):\n",
      " #   Column          Non-Null Count  Dtype  \n",
      "---  ------          --------------  -----  \n",
      " 0   App             10357 non-null  object \n",
      " 1   Category        10357 non-null  object \n",
      " 2   Rating          8892 non-null   float64\n",
      " 3   Reviews         10357 non-null  object \n",
      " 4   Size            10357 non-null  object \n",
      " 5   Installs        10357 non-null  object \n",
      " 6   Type            10356 non-null  object \n",
      " 7   Price           10357 non-null  object \n",
      " 8   Content Rating  10357 non-null  object \n",
      " 9   Genres          10357 non-null  object \n",
      " 10  Last Updated    10357 non-null  object \n",
      " 11  Current Ver     10349 non-null  object \n",
      " 12  Android Ver     10355 non-null  object \n",
      "dtypes: float64(1), object(12)\n",
      "memory usage: 1.1+ MB\n"
     ]
    }
   ],
   "source": [
    "g_df.info()"
   ]
  },
  {
   "cell_type": "code",
   "execution_count": 18,
   "id": "cc4c8182",
   "metadata": {},
   "outputs": [
    {
     "data": {
      "text/plain": [
       "0        4.1\n",
       "1        3.9\n",
       "2        4.7\n",
       "3        4.5\n",
       "4        4.3\n",
       "        ... \n",
       "10836    4.5\n",
       "10837    5.0\n",
       "10838    NaN\n",
       "10839    4.5\n",
       "10840    4.5\n",
       "Name: Rating, Length: 10357, dtype: float64"
      ]
     },
     "execution_count": 18,
     "metadata": {},
     "output_type": "execute_result"
    }
   ],
   "source": [
    "g_df['Rating']"
   ]
  },
  {
   "cell_type": "code",
   "execution_count": 19,
   "id": "8846faa2",
   "metadata": {},
   "outputs": [
    {
     "data": {
      "text/plain": [
       "1465"
      ]
     },
     "execution_count": 19,
     "metadata": {},
     "output_type": "execute_result"
    }
   ],
   "source": [
    "# To check if there are any missing values or not \n",
    "\n",
    "missing_values = g_df['Rating'].isnull().sum()\n",
    "missing_values"
   ]
  },
  {
   "cell_type": "code",
   "execution_count": 20,
   "id": "d1f4f207",
   "metadata": {},
   "outputs": [],
   "source": [
    "# Drop the missing values\n",
    "\n",
    "g_df.dropna(subset=['Rating'], inplace=True)"
   ]
  },
  {
   "cell_type": "code",
   "execution_count": 21,
   "id": "1be75f50",
   "metadata": {},
   "outputs": [
    {
     "data": {
      "text/html": [
       "<div>\n",
       "<style scoped>\n",
       "    .dataframe tbody tr th:only-of-type {\n",
       "        vertical-align: middle;\n",
       "    }\n",
       "\n",
       "    .dataframe tbody tr th {\n",
       "        vertical-align: top;\n",
       "    }\n",
       "\n",
       "    .dataframe thead th {\n",
       "        text-align: right;\n",
       "    }\n",
       "</style>\n",
       "<table border=\"1\" class=\"dataframe\">\n",
       "  <thead>\n",
       "    <tr style=\"text-align: right;\">\n",
       "      <th></th>\n",
       "      <th>App</th>\n",
       "      <th>Category</th>\n",
       "      <th>Rating</th>\n",
       "      <th>Reviews</th>\n",
       "      <th>Size</th>\n",
       "      <th>Installs</th>\n",
       "      <th>Type</th>\n",
       "      <th>Price</th>\n",
       "      <th>Content Rating</th>\n",
       "      <th>Genres</th>\n",
       "      <th>Last Updated</th>\n",
       "      <th>Current Ver</th>\n",
       "      <th>Android Ver</th>\n",
       "      <th>Rating_category</th>\n",
       "    </tr>\n",
       "  </thead>\n",
       "  <tbody>\n",
       "    <tr>\n",
       "      <th>0</th>\n",
       "      <td>Photo Editor &amp; Candy Camera &amp; Grid &amp; ScrapBook</td>\n",
       "      <td>ART_AND_DESIGN</td>\n",
       "      <td>4.1</td>\n",
       "      <td>159</td>\n",
       "      <td>19M</td>\n",
       "      <td>10,000+</td>\n",
       "      <td>Free</td>\n",
       "      <td>0</td>\n",
       "      <td>Everyone</td>\n",
       "      <td>Art &amp; Design</td>\n",
       "      <td>January 7, 2018</td>\n",
       "      <td>1.0.0</td>\n",
       "      <td>4.0.3 and up</td>\n",
       "      <td>High</td>\n",
       "    </tr>\n",
       "    <tr>\n",
       "      <th>1</th>\n",
       "      <td>Coloring book moana</td>\n",
       "      <td>ART_AND_DESIGN</td>\n",
       "      <td>3.9</td>\n",
       "      <td>967</td>\n",
       "      <td>14M</td>\n",
       "      <td>500,000+</td>\n",
       "      <td>Free</td>\n",
       "      <td>0</td>\n",
       "      <td>Everyone</td>\n",
       "      <td>Art &amp; Design;Pretend Play</td>\n",
       "      <td>January 15, 2018</td>\n",
       "      <td>2.0.0</td>\n",
       "      <td>4.0.3 and up</td>\n",
       "      <td>High</td>\n",
       "    </tr>\n",
       "    <tr>\n",
       "      <th>2</th>\n",
       "      <td>U Launcher Lite – FREE Live Cool Themes, Hide ...</td>\n",
       "      <td>ART_AND_DESIGN</td>\n",
       "      <td>4.7</td>\n",
       "      <td>87510</td>\n",
       "      <td>8.7M</td>\n",
       "      <td>5,000,000+</td>\n",
       "      <td>Free</td>\n",
       "      <td>0</td>\n",
       "      <td>Everyone</td>\n",
       "      <td>Art &amp; Design</td>\n",
       "      <td>August 1, 2018</td>\n",
       "      <td>1.2.4</td>\n",
       "      <td>4.0.3 and up</td>\n",
       "      <td>High</td>\n",
       "    </tr>\n",
       "    <tr>\n",
       "      <th>3</th>\n",
       "      <td>Sketch - Draw &amp; Paint</td>\n",
       "      <td>ART_AND_DESIGN</td>\n",
       "      <td>4.5</td>\n",
       "      <td>215644</td>\n",
       "      <td>25M</td>\n",
       "      <td>50,000,000+</td>\n",
       "      <td>Free</td>\n",
       "      <td>0</td>\n",
       "      <td>Teen</td>\n",
       "      <td>Art &amp; Design</td>\n",
       "      <td>June 8, 2018</td>\n",
       "      <td>Varies with device</td>\n",
       "      <td>4.2 and up</td>\n",
       "      <td>High</td>\n",
       "    </tr>\n",
       "    <tr>\n",
       "      <th>4</th>\n",
       "      <td>Pixel Draw - Number Art Coloring Book</td>\n",
       "      <td>ART_AND_DESIGN</td>\n",
       "      <td>4.3</td>\n",
       "      <td>967</td>\n",
       "      <td>2.8M</td>\n",
       "      <td>100,000+</td>\n",
       "      <td>Free</td>\n",
       "      <td>0</td>\n",
       "      <td>Everyone</td>\n",
       "      <td>Art &amp; Design;Creativity</td>\n",
       "      <td>June 20, 2018</td>\n",
       "      <td>1.1</td>\n",
       "      <td>4.4 and up</td>\n",
       "      <td>High</td>\n",
       "    </tr>\n",
       "  </tbody>\n",
       "</table>\n",
       "</div>"
      ],
      "text/plain": [
       "                                                 App        Category  Rating  \\\n",
       "0     Photo Editor & Candy Camera & Grid & ScrapBook  ART_AND_DESIGN     4.1   \n",
       "1                                Coloring book moana  ART_AND_DESIGN     3.9   \n",
       "2  U Launcher Lite – FREE Live Cool Themes, Hide ...  ART_AND_DESIGN     4.7   \n",
       "3                              Sketch - Draw & Paint  ART_AND_DESIGN     4.5   \n",
       "4              Pixel Draw - Number Art Coloring Book  ART_AND_DESIGN     4.3   \n",
       "\n",
       "  Reviews  Size     Installs  Type Price Content Rating  \\\n",
       "0     159   19M      10,000+  Free     0       Everyone   \n",
       "1     967   14M     500,000+  Free     0       Everyone   \n",
       "2   87510  8.7M   5,000,000+  Free     0       Everyone   \n",
       "3  215644   25M  50,000,000+  Free     0           Teen   \n",
       "4     967  2.8M     100,000+  Free     0       Everyone   \n",
       "\n",
       "                      Genres      Last Updated         Current Ver  \\\n",
       "0               Art & Design   January 7, 2018               1.0.0   \n",
       "1  Art & Design;Pretend Play  January 15, 2018               2.0.0   \n",
       "2               Art & Design    August 1, 2018               1.2.4   \n",
       "3               Art & Design      June 8, 2018  Varies with device   \n",
       "4    Art & Design;Creativity     June 20, 2018                 1.1   \n",
       "\n",
       "    Android Ver Rating_category  \n",
       "0  4.0.3 and up            High  \n",
       "1  4.0.3 and up            High  \n",
       "2  4.0.3 and up            High  \n",
       "3    4.2 and up            High  \n",
       "4    4.4 and up            High  "
      ]
     },
     "execution_count": 21,
     "metadata": {},
     "output_type": "execute_result"
    }
   ],
   "source": [
    "# Create 'Rating_category' column based on ratings\n",
    "g_df['Rating_category'] = g_df['Rating'].apply(lambda x: 'High' if x > 3.5 else 'Low')\n",
    "\n",
    "# Print the updated DataFrame\n",
    "g_df.head()"
   ]
  },
  {
   "cell_type": "code",
   "execution_count": 22,
   "id": "fa6112df",
   "metadata": {
    "scrolled": true
   },
   "outputs": [
    {
     "data": {
      "text/plain": [
       "(8892, 14)"
      ]
     },
     "execution_count": 22,
     "metadata": {},
     "output_type": "execute_result"
    }
   ],
   "source": [
    "g_df.shape"
   ]
  },
  {
   "cell_type": "markdown",
   "id": "c8ee7863",
   "metadata": {},
   "source": [
    "<html>\n",
    "    <head>\n",
    "        <body>\n",
    "            <h3><u><font color = green> Observations :</font></u></h3><br>\n",
    "            <li>In this code, the <b><i><font color=#C1063C>isnull()</font></i></b> method is applied to the 'Rating' column of the DataFrame df to check for missing values. </li><br>\n",
    "            <li>The <b><i><font color=#C1063C>sum() </font></i></b>function is then used to count the number of missing values. If missing values are found (<b><i><font color=#C1063C>missing_values > 0</font></i></b>), the code proceeds to drop the corresponding rows using the <b><i><font color=#C1063C>dropna() </font></i></b>method.</li><br>\n",
    "            <li>After handling missing values, the code creates a new column 'Rating_category' using the <b><i><font color=#C1063C>apply() method.</font></i></b> </li><br>\n",
    "            <li>For each rating value in the 'Rating' column, it applies a <b><i><font color=#C1063C>lambda </font></i></b>function that assigns 'High' if the rating is greater than 3.5, and 'Low' otherwise.</li><br>\n",
    "            <li>Finally, the code displays the first few rows of the updated DataFrame, including the new <b><i><font color=#C1063C>'Rating_category'</font></i></b> column.</li><br>\n",
    "                  </body>\n",
    "    </head>\n",
    "</html>"
   ]
  },
  {
   "cell_type": "markdown",
   "id": "efddf275",
   "metadata": {},
   "source": [
    "--------------------------------------------------------------------------------------------------"
   ]
  },
  {
   "cell_type": "markdown",
   "id": "6b92096d",
   "metadata": {},
   "source": [
    "<html>\n",
    "<span style=\"font-family: Times New Roman; color:#000080; font-size: 18px;\">\n",
    "    <center><b><i>\n",
    "       7. Check the distribution of the newly created column 'Rating_category' and comment on the distribution.</i></b>\n",
    "    </center>\n",
    "</span>\n",
    "</html>"
   ]
  },
  {
   "cell_type": "code",
   "execution_count": 23,
   "id": "59552f2a",
   "metadata": {},
   "outputs": [
    {
     "data": {
      "text/plain": [
       "High    8012\n",
       "Low      880\n",
       "Name: Rating_category, dtype: int64"
      ]
     },
     "execution_count": 23,
     "metadata": {},
     "output_type": "execute_result"
    }
   ],
   "source": [
    "# To create a varible rating_category_count and store the count values\n",
    "\n",
    "rating_category_counts = g_df['Rating_category'].value_counts()\n",
    "rating_category_counts"
   ]
  },
  {
   "cell_type": "code",
   "execution_count": 24,
   "id": "2406e898",
   "metadata": {},
   "outputs": [
    {
     "data": {
      "image/png": "[encoded data removed]",
      "text/plain": [
       "<Figure size 800x600 with 1 Axes>"
      ]
     },
     "metadata": {},
     "output_type": "display_data"
    }
   ],
   "source": [
    "# Plot the distribution\n",
    "plt.figure(figsize=(8, 6))\n",
    "ax = rating_category_counts.plot(kind='bar', color = '#DE3163')\n",
    "plt.title(\"Distribution of Rating Category\")\n",
    "plt.xlabel(\"Rating Category\")\n",
    "plt.ylabel(\"Count\")\n",
    "plt.xticks(rotation=40) \n",
    "\n",
    "# Add value annotations above each bar\n",
    "for i, v in enumerate(rating_category_counts):\n",
    "    ax.text(i, v + 5, str(v), ha='center', va='bottom')\n",
    "plt.show()\n",
    "\n"
   ]
  },
  {
   "cell_type": "markdown",
   "id": "7a9b6dc8",
   "metadata": {},
   "source": [
    "<html>\n",
    "    <head>\n",
    "        <body>\n",
    "            <h3><u><font color = green> Observations :</font></u></h3><br>\n",
    "                <li>The revised data set has two data ie. High and Low. The total count of each value has been obtained by the code - <b><i><font color=#C1063C> g_df['Rating_category'].value_counts().</font></i></b></li><br>\n",
    "                <li>The count values has been diplayed as bar graph.</li><br>\n",
    "               <li>To get the annotations above each bar, use <b><i><font color=#C1063C> for loop</font></i></b> and <b><i><font color=#C1063C> enumerate </font></i></b>to get each index and value and print it above the bar graph</li><br>\n",
    "                        </body>\n",
    "    </head>\n",
    "</html>"
   ]
  },
  {
   "cell_type": "markdown",
   "id": "089fc43b",
   "metadata": {},
   "source": [
    "--------------------------------------------------------------------------------------------------"
   ]
  },
  {
   "cell_type": "markdown",
   "id": "a9114bfb",
   "metadata": {},
   "source": [
    "<html>\n",
    "<span style=\"font-family: Times New Roman; color:#000080; font-size: 18px;\">\n",
    "    <center><b><i>\n",
    "       8. Convert the column \"Reviews'' to numeric data type and check the presence of outliers in the column and handle the outliers using a transformation approach.(Hint: Use log transformation)</i></b>\n",
    "    </center>\n",
    "</span>\n",
    "</html>"
   ]
  },
  {
   "cell_type": "code",
   "execution_count": 25,
   "id": "02b814b6",
   "metadata": {},
   "outputs": [],
   "source": [
    "# Convert the \"Reviews\" column to numeric data type\n",
    "g_df['Reviews'] = pd.to_numeric(g_df['Reviews'], errors='coerce')"
   ]
  },
  {
   "cell_type": "code",
   "execution_count": 26,
   "id": "f86ec9d1",
   "metadata": {},
   "outputs": [
    {
     "name": "stdout",
     "output_type": "stream",
     "text": [
      "Number of outliers: 1555\n"
     ]
    }
   ],
   "source": [
    "# Check for outliers in the \"Reviews\" column\n",
    "Q1 = g_df['Reviews'].quantile(0.25)\n",
    "Q3 = g_df['Reviews'].quantile(0.75)\n",
    "IQR = Q3 - Q1\n",
    "upper_bound = Q3 + 1.5 * IQR\n",
    "lower_bound = Q1 - 1.5 * IQR\n",
    "\n",
    "outliers = g_df[(g_df['Reviews'] > upper_bound) | (g_df['Reviews'] < lower_bound)]\n",
    "print(\"Number of outliers:\", len(outliers))"
   ]
  },
  {
   "cell_type": "code",
   "execution_count": 27,
   "id": "5fd67b40",
   "metadata": {
    "scrolled": true
   },
   "outputs": [
    {
     "data": {
      "text/html": [
       "<div>\n",
       "<style scoped>\n",
       "    .dataframe tbody tr th:only-of-type {\n",
       "        vertical-align: middle;\n",
       "    }\n",
       "\n",
       "    .dataframe tbody tr th {\n",
       "        vertical-align: top;\n",
       "    }\n",
       "\n",
       "    .dataframe thead th {\n",
       "        text-align: right;\n",
       "    }\n",
       "</style>\n",
       "<table border=\"1\" class=\"dataframe\">\n",
       "  <thead>\n",
       "    <tr style=\"text-align: right;\">\n",
       "      <th></th>\n",
       "      <th>App</th>\n",
       "      <th>Category</th>\n",
       "      <th>Rating</th>\n",
       "      <th>Reviews</th>\n",
       "      <th>Size</th>\n",
       "      <th>Installs</th>\n",
       "      <th>Type</th>\n",
       "      <th>Price</th>\n",
       "      <th>Content Rating</th>\n",
       "      <th>Genres</th>\n",
       "      <th>Last Updated</th>\n",
       "      <th>Current Ver</th>\n",
       "      <th>Android Ver</th>\n",
       "      <th>Rating_category</th>\n",
       "      <th>Reviews_transformed</th>\n",
       "    </tr>\n",
       "  </thead>\n",
       "  <tbody>\n",
       "    <tr>\n",
       "      <th>0</th>\n",
       "      <td>Photo Editor &amp; Candy Camera &amp; Grid &amp; ScrapBook</td>\n",
       "      <td>ART_AND_DESIGN</td>\n",
       "      <td>4.1</td>\n",
       "      <td>159</td>\n",
       "      <td>19M</td>\n",
       "      <td>10,000+</td>\n",
       "      <td>Free</td>\n",
       "      <td>0</td>\n",
       "      <td>Everyone</td>\n",
       "      <td>Art &amp; Design</td>\n",
       "      <td>January 7, 2018</td>\n",
       "      <td>1.0.0</td>\n",
       "      <td>4.0.3 and up</td>\n",
       "      <td>High</td>\n",
       "      <td>5.075174</td>\n",
       "    </tr>\n",
       "    <tr>\n",
       "      <th>1</th>\n",
       "      <td>Coloring book moana</td>\n",
       "      <td>ART_AND_DESIGN</td>\n",
       "      <td>3.9</td>\n",
       "      <td>967</td>\n",
       "      <td>14M</td>\n",
       "      <td>500,000+</td>\n",
       "      <td>Free</td>\n",
       "      <td>0</td>\n",
       "      <td>Everyone</td>\n",
       "      <td>Art &amp; Design;Pretend Play</td>\n",
       "      <td>January 15, 2018</td>\n",
       "      <td>2.0.0</td>\n",
       "      <td>4.0.3 and up</td>\n",
       "      <td>High</td>\n",
       "      <td>6.875232</td>\n",
       "    </tr>\n",
       "    <tr>\n",
       "      <th>2</th>\n",
       "      <td>U Launcher Lite – FREE Live Cool Themes, Hide ...</td>\n",
       "      <td>ART_AND_DESIGN</td>\n",
       "      <td>4.7</td>\n",
       "      <td>87510</td>\n",
       "      <td>8.7M</td>\n",
       "      <td>5,000,000+</td>\n",
       "      <td>Free</td>\n",
       "      <td>0</td>\n",
       "      <td>Everyone</td>\n",
       "      <td>Art &amp; Design</td>\n",
       "      <td>August 1, 2018</td>\n",
       "      <td>1.2.4</td>\n",
       "      <td>4.0.3 and up</td>\n",
       "      <td>High</td>\n",
       "      <td>11.379520</td>\n",
       "    </tr>\n",
       "    <tr>\n",
       "      <th>3</th>\n",
       "      <td>Sketch - Draw &amp; Paint</td>\n",
       "      <td>ART_AND_DESIGN</td>\n",
       "      <td>4.5</td>\n",
       "      <td>215644</td>\n",
       "      <td>25M</td>\n",
       "      <td>50,000,000+</td>\n",
       "      <td>Free</td>\n",
       "      <td>0</td>\n",
       "      <td>Teen</td>\n",
       "      <td>Art &amp; Design</td>\n",
       "      <td>June 8, 2018</td>\n",
       "      <td>Varies with device</td>\n",
       "      <td>4.2 and up</td>\n",
       "      <td>High</td>\n",
       "      <td>12.281389</td>\n",
       "    </tr>\n",
       "    <tr>\n",
       "      <th>4</th>\n",
       "      <td>Pixel Draw - Number Art Coloring Book</td>\n",
       "      <td>ART_AND_DESIGN</td>\n",
       "      <td>4.3</td>\n",
       "      <td>967</td>\n",
       "      <td>2.8M</td>\n",
       "      <td>100,000+</td>\n",
       "      <td>Free</td>\n",
       "      <td>0</td>\n",
       "      <td>Everyone</td>\n",
       "      <td>Art &amp; Design;Creativity</td>\n",
       "      <td>June 20, 2018</td>\n",
       "      <td>1.1</td>\n",
       "      <td>4.4 and up</td>\n",
       "      <td>High</td>\n",
       "      <td>6.875232</td>\n",
       "    </tr>\n",
       "  </tbody>\n",
       "</table>\n",
       "</div>"
      ],
      "text/plain": [
       "                                                 App        Category  Rating  \\\n",
       "0     Photo Editor & Candy Camera & Grid & ScrapBook  ART_AND_DESIGN     4.1   \n",
       "1                                Coloring book moana  ART_AND_DESIGN     3.9   \n",
       "2  U Launcher Lite – FREE Live Cool Themes, Hide ...  ART_AND_DESIGN     4.7   \n",
       "3                              Sketch - Draw & Paint  ART_AND_DESIGN     4.5   \n",
       "4              Pixel Draw - Number Art Coloring Book  ART_AND_DESIGN     4.3   \n",
       "\n",
       "   Reviews  Size     Installs  Type Price Content Rating  \\\n",
       "0      159   19M      10,000+  Free     0       Everyone   \n",
       "1      967   14M     500,000+  Free     0       Everyone   \n",
       "2    87510  8.7M   5,000,000+  Free     0       Everyone   \n",
       "3   215644   25M  50,000,000+  Free     0           Teen   \n",
       "4      967  2.8M     100,000+  Free     0       Everyone   \n",
       "\n",
       "                      Genres      Last Updated         Current Ver  \\\n",
       "0               Art & Design   January 7, 2018               1.0.0   \n",
       "1  Art & Design;Pretend Play  January 15, 2018               2.0.0   \n",
       "2               Art & Design    August 1, 2018               1.2.4   \n",
       "3               Art & Design      June 8, 2018  Varies with device   \n",
       "4    Art & Design;Creativity     June 20, 2018                 1.1   \n",
       "\n",
       "    Android Ver Rating_category  Reviews_transformed  \n",
       "0  4.0.3 and up            High             5.075174  \n",
       "1  4.0.3 and up            High             6.875232  \n",
       "2  4.0.3 and up            High            11.379520  \n",
       "3    4.2 and up            High            12.281389  \n",
       "4    4.4 and up            High             6.875232  "
      ]
     },
     "execution_count": 27,
     "metadata": {},
     "output_type": "execute_result"
    }
   ],
   "source": [
    "# Handle outliers using log transformation\n",
    "g_df['Reviews_transformed'] = np.log1p(g_df['Reviews'])\n",
    "\n",
    "# Display the updated DataFrame\n",
    "g_df.head()"
   ]
  },
  {
   "cell_type": "markdown",
   "id": "1a8d657f",
   "metadata": {},
   "source": [
    "<html>\n",
    "    <head>\n",
    "        <body>\n",
    "            <h3><u><font color = green> Observations :</font></u></h3><br>\n",
    "                <li>In this code, the <b><i><font color=#C1063C>pd.to_numeric()</font></i></b> function is used to convert the 'Reviews' column to a numeric data type. </li><br>\n",
    "            <li><b><i><font color=#C1063C>The errors='coerce'</font></i></b> parameter ensures that any non-numeric values are converted to NaN.</li><br>\n",
    "\n",
    "<li>After converting the column, the code checks for outliers using the <b><i><font color=#C1063C>Interquartile Range (IQR)</font></i></b> method. The lower and upper bounds are calculated based on the first quartile (Q1) and third quartile (Q3), respectively. </li><br>\n",
    "    <li>Any value below the lower bound or above the upper bound is considered an <b><i><font color=#C1063C>outlier.</font></i></b></li><br>\n",
    "\n",
    "<li>To handle the outliers, the code applies a log transformation (<b><i><font color=#C1063C>np.log1p()</font></i></b>) to the <b><i><font color=#C1063C>'Reviews_transformed' </font></i></b>column. This transformation helps to normalize the data and reduce the impact of extreme values.</li><br>\n",
    "\n",
    "<li>Finally, the code displays the first few rows of the updated DataFrame, including the 'Reviews_tranformed' column.</li><br>        </body>\n",
    "    </head>\n",
    "</html>"
   ]
  },
  {
   "cell_type": "markdown",
   "id": "8672c174",
   "metadata": {},
   "source": [
    "--------------------------------------------------------------------------------------------------"
   ]
  },
  {
   "cell_type": "markdown",
   "id": "e04e40ce",
   "metadata": {},
   "source": [
    "<html>\n",
    "<span style=\"font-family: Times New Roman; color:#000080; font-size: 18px;\">\n",
    "    <center><b><i>\n",
    "      9. The column 'Size' contains alphanumeric values, treat the non numeric data and convert the column into suitable data type. (hint: Replace M with 1 million and K with 1 thousand, and drop the entries where size='Varies with device')</i></b>\n",
    "    </center>\n",
    "</span>\n",
    "</html>"
   ]
  },
  {
   "cell_type": "code",
   "execution_count": 28,
   "id": "324cb7ef",
   "metadata": {},
   "outputs": [
    {
     "data": {
      "text/plain": [
       "Varies with device    1468\n",
       "14M                    154\n",
       "13M                    152\n",
       "12M                    151\n",
       "11M                    150\n",
       "                      ... \n",
       "383k                     1\n",
       "454k                     1\n",
       "812k                     1\n",
       "442k                     1\n",
       "619k                     1\n",
       "Name: Size, Length: 414, dtype: int64"
      ]
     },
     "execution_count": 28,
     "metadata": {},
     "output_type": "execute_result"
    }
   ],
   "source": [
    "# Check the unique values count in the 'Size column'\n",
    "\n",
    "g_df['Size'].value_counts()"
   ]
  },
  {
   "cell_type": "code",
   "execution_count": 29,
   "id": "797f76af",
   "metadata": {},
   "outputs": [
    {
     "data": {
      "text/plain": [
       "0         19M\n",
       "1         14M\n",
       "2        8.7M\n",
       "3         25M\n",
       "4        2.8M\n",
       "         ... \n",
       "10833    619k\n",
       "10834    2.6M\n",
       "10836     53M\n",
       "10837    3.6M\n",
       "10840     19M\n",
       "Name: Size, Length: 7424, dtype: object"
      ]
     },
     "execution_count": 29,
     "metadata": {},
     "output_type": "execute_result"
    }
   ],
   "source": [
    "# Dropping the 'Varies with device' value from 'Size' column\n",
    "\n",
    "g_df = g_df[g_df['Size'] != 'Varies with device']\n",
    "g_df['Size']"
   ]
  },
  {
   "cell_type": "code",
   "execution_count": 30,
   "id": "bf9974d3",
   "metadata": {},
   "outputs": [
    {
     "data": {
      "text/plain": [
       "0        19000000.0\n",
       "1        14000000.0\n",
       "2         8700000.0\n",
       "3        25000000.0\n",
       "4         2800000.0\n",
       "            ...    \n",
       "10833      619000.0\n",
       "10834     2600000.0\n",
       "10836    53000000.0\n",
       "10837     3600000.0\n",
       "10840    19000000.0\n",
       "Name: Size, Length: 7424, dtype: float64"
      ]
     },
     "execution_count": 30,
     "metadata": {},
     "output_type": "execute_result"
    }
   ],
   "source": [
    "g_df['Size'] = g_df['Size'].apply(lambda x: float(x[:-1]) * (10**6) if 'M' in x else float(x[:-1]) * (10**3))\n",
    "g_df['Size']"
   ]
  },
  {
   "cell_type": "code",
   "execution_count": 31,
   "id": "05e65340",
   "metadata": {},
   "outputs": [
    {
     "data": {
      "text/plain": [
       "14000000.0    154\n",
       "13000000.0    152\n",
       "12000000.0    151\n",
       "11000000.0    150\n",
       "15000000.0    149\n",
       "             ... \n",
       "383000.0        1\n",
       "454000.0        1\n",
       "812000.0        1\n",
       "442000.0        1\n",
       "619000.0        1\n",
       "Name: Size, Length: 412, dtype: int64"
      ]
     },
     "execution_count": 31,
     "metadata": {},
     "output_type": "execute_result"
    }
   ],
   "source": [
    "g_df['Size'].value_counts()"
   ]
  },
  {
   "cell_type": "code",
   "execution_count": 32,
   "id": "d931207d",
   "metadata": {
    "scrolled": true
   },
   "outputs": [
    {
     "data": {
      "text/plain": [
       "0        19000000.0\n",
       "1        14000000.0\n",
       "2         8700000.0\n",
       "3        25000000.0\n",
       "4         2800000.0\n",
       "            ...    \n",
       "10833      619000.0\n",
       "10834     2600000.0\n",
       "10836    53000000.0\n",
       "10837     3600000.0\n",
       "10840    19000000.0\n",
       "Name: Size, Length: 7424, dtype: float64"
      ]
     },
     "execution_count": 32,
     "metadata": {},
     "output_type": "execute_result"
    }
   ],
   "source": [
    "# Convert the 'Size' column to a numeric data type\n",
    "\n",
    "g_df['Size'] = pd.to_numeric(g_df['Size'], errors='coerce')\n",
    "g_df['Size']"
   ]
  },
  {
   "cell_type": "code",
   "execution_count": 33,
   "id": "e04ab405",
   "metadata": {
    "scrolled": true
   },
   "outputs": [
    {
     "name": "stdout",
     "output_type": "stream",
     "text": [
      "<class 'pandas.core.frame.DataFrame'>\n",
      "Int64Index: 7424 entries, 0 to 10840\n",
      "Data columns (total 15 columns):\n",
      " #   Column               Non-Null Count  Dtype  \n",
      "---  ------               --------------  -----  \n",
      " 0   App                  7424 non-null   object \n",
      " 1   Category             7424 non-null   object \n",
      " 2   Rating               7424 non-null   float64\n",
      " 3   Reviews              7424 non-null   int64  \n",
      " 4   Size                 7424 non-null   float64\n",
      " 5   Installs             7424 non-null   object \n",
      " 6   Type                 7424 non-null   object \n",
      " 7   Price                7424 non-null   object \n",
      " 8   Content Rating       7424 non-null   object \n",
      " 9   Genres               7424 non-null   object \n",
      " 10  Last Updated         7424 non-null   object \n",
      " 11  Current Ver          7420 non-null   object \n",
      " 12  Android Ver          7422 non-null   object \n",
      " 13  Rating_category      7424 non-null   object \n",
      " 14  Reviews_transformed  7424 non-null   float64\n",
      "dtypes: float64(3), int64(1), object(11)\n",
      "memory usage: 928.0+ KB\n"
     ]
    }
   ],
   "source": [
    "g_df.info()"
   ]
  },
  {
   "cell_type": "markdown",
   "id": "84ff0b74",
   "metadata": {},
   "source": [
    "<html>\n",
    "    <head>\n",
    "        <body>\n",
    "            <h3><u><font color = green> Observations :</font></u></h3><br>\n",
    "             <li>In this code, <b><i><font color=#C1063C>lambda function</font></i></b>  is used to replace 'M' with 10^6 (1 million) and 'K' with 10^3 (1 thousand) in the 'Size' column.</li><br> \n",
    "               <li>After replacing the values, the<b><i><font color=#C1063C> pd.to_numeric() </font></i></b>function is applied to convert the <b><i><font color=#C1063C>'Size'</font></i></b> column to a numeric data type. </li><br>\n",
    "            <li>The code then drops the entries where the 'Size' column is <b><i><font color=#C1063C>'Varies with device' </font></i></b>using boolean indexing.</li><br>\n",
    "                       </body>\n",
    "    </head>\n",
    "</html>"
   ]
  },
  {
   "cell_type": "markdown",
   "id": "3be99a6a",
   "metadata": {},
   "source": [
    "--------------------------------------------------------------------------------------------------"
   ]
  },
  {
   "cell_type": "markdown",
   "id": "d2ef2efd",
   "metadata": {},
   "source": [
    "<html>\n",
    "<span style=\"font-family: Times New Roman; color:#000080; font-size: 18px;\">\n",
    "    <center><b><i>\n",
    "       10. Check the column 'Installs', treat the unwanted characters and convert the column into a suitable data type.</i></b>\n",
    "    </center>\n",
    "</span>\n",
    "</html>"
   ]
  },
  {
   "cell_type": "code",
   "execution_count": 34,
   "id": "2351b99a",
   "metadata": {},
   "outputs": [
    {
     "data": {
      "text/plain": [
       "0            10,000+\n",
       "1           500,000+\n",
       "2         5,000,000+\n",
       "3        50,000,000+\n",
       "4           100,000+\n",
       "            ...     \n",
       "10833         1,000+\n",
       "10834           500+\n",
       "10836         5,000+\n",
       "10837           100+\n",
       "10840    10,000,000+\n",
       "Name: Installs, Length: 7424, dtype: object"
      ]
     },
     "execution_count": 34,
     "metadata": {},
     "output_type": "execute_result"
    }
   ],
   "source": [
    "g_df['Installs']"
   ]
  },
  {
   "cell_type": "code",
   "execution_count": 35,
   "id": "870e1643",
   "metadata": {},
   "outputs": [
    {
     "data": {
      "text/plain": [
       "0           10000\n",
       "1          500000\n",
       "2         5000000\n",
       "3        50000000\n",
       "4          100000\n",
       "           ...   \n",
       "10833        1000\n",
       "10834         500\n",
       "10836        5000\n",
       "10837         100\n",
       "10840    10000000\n",
       "Name: Installs, Length: 7424, dtype: object"
      ]
     },
     "execution_count": 35,
     "metadata": {},
     "output_type": "execute_result"
    }
   ],
   "source": [
    "# Assuming you have a DataFrame named 'df'\n",
    "# Treat unwanted characters in the 'Installs' column\n",
    "g_df['Installs'] = g_df['Installs'].str.replace('[+,]', '', regex=True)\n",
    "g_df['Installs']\n"
   ]
  },
  {
   "cell_type": "code",
   "execution_count": 36,
   "id": "5bda4f4d",
   "metadata": {},
   "outputs": [
    {
     "data": {
      "text/plain": [
       "App                     object\n",
       "Category                object\n",
       "Rating                 float64\n",
       "Reviews                  int64\n",
       "Size                   float64\n",
       "Installs                 int64\n",
       "Type                    object\n",
       "Price                   object\n",
       "Content Rating          object\n",
       "Genres                  object\n",
       "Last Updated            object\n",
       "Current Ver             object\n",
       "Android Ver             object\n",
       "Rating_category         object\n",
       "Reviews_transformed    float64\n",
       "dtype: object"
      ]
     },
     "execution_count": 36,
     "metadata": {},
     "output_type": "execute_result"
    }
   ],
   "source": [
    "# Convert the 'Installs' column to a numeric data type\n",
    "g_df['Installs'] = pd.to_numeric(g_df['Installs'], errors='coerce')\n",
    "g_df.dtypes"
   ]
  },
  {
   "cell_type": "markdown",
   "id": "49d7d1b7",
   "metadata": {},
   "source": [
    "<html>\n",
    "    <head>\n",
    "        <body>\n",
    "            <h3><u><font color = green> Observations :</font></u></h3><br>\n",
    "            <li>In this code, the <b><i><font color=#C1063C>str.replace() </font></i></b>method is used to remove unwanted characters from the 'Installs' column.</li><br>\n",
    "            <li> The regular expression <b><i><font color=#C1063C>[+,] </font></i></b>matches the plus sign (+) and comma (,) characters, and they are replaced with an empty string.</li><br>\n",
    "            <li>After removing the unwanted characters, the <b><i><font color=#C1063C>pd.to_numeric() </font></i></b>function is applied to convert the <b><i><font color=#C1063C>'Installs'</font></i></b> column to a numeric data type.</li><br>\n",
    "            <li> The <b><i><font color=#C1063C>errors='coerce'</font></i></b> parameter ensures that any non-numeric values are converted to NaN.</li><br>\n",
    "            <li>Finally, the code displays the first few rows of the updated DataFrame, including the treated and converted <b><i><font color=#C1063C>'Installs'</font></i></b> column.</li><br>\n",
    "                </body>\n",
    "    </head>\n",
    "</html>"
   ]
  },
  {
   "cell_type": "markdown",
   "id": "d1ad473b",
   "metadata": {},
   "source": [
    "--------------------------------------------------------------------------------------------------"
   ]
  },
  {
   "cell_type": "markdown",
   "id": "3bc6d0d9",
   "metadata": {},
   "source": [
    "<html>\n",
    "<span style=\"font-family: Times New Roman; color:#000080; font-size: 18px;\">\n",
    "    <center><b><i>\n",
    "       11. Check the column 'Price' , remove the unwanted characters and convert the column into a suitable data type.</i></b>\n",
    "    </center>\n",
    "</span>\n",
    "</html>"
   ]
  },
  {
   "cell_type": "code",
   "execution_count": 37,
   "id": "dece6040",
   "metadata": {
    "scrolled": false
   },
   "outputs": [
    {
     "data": {
      "text/plain": [
       "0          6877\n",
       "$0.99       104\n",
       "$2.99        98\n",
       "$4.99        61\n",
       "$1.99        53\n",
       "           ... \n",
       "$6.49         1\n",
       "$1.29         1\n",
       "$299.99       1\n",
       "$379.99       1\n",
       "$1.20         1\n",
       "Name: Price, Length: 68, dtype: int64"
      ]
     },
     "execution_count": 37,
     "metadata": {},
     "output_type": "execute_result"
    }
   ],
   "source": [
    "# View the data in the 'Price columns'\n",
    "\n",
    "g_df['Price'].value_counts()"
   ]
  },
  {
   "cell_type": "code",
   "execution_count": 38,
   "id": "51f91a5f",
   "metadata": {
    "scrolled": true
   },
   "outputs": [
    {
     "data": {
      "text/plain": [
       "0.00      6877\n",
       "0.99       104\n",
       "2.99        98\n",
       "4.99        61\n",
       "1.99        53\n",
       "          ... \n",
       "6.49         1\n",
       "1.29         1\n",
       "299.99       1\n",
       "379.99       1\n",
       "1.20         1\n",
       "Name: Price, Length: 68, dtype: int64"
      ]
     },
     "execution_count": 38,
     "metadata": {},
     "output_type": "execute_result"
    }
   ],
   "source": [
    "# Replace the '$' as empty string\n",
    "\n",
    "g_df['Price'] = g_df['Price'].apply(lambda x: float(x.replace('$', '')))\n",
    "g_df['Price'].value_counts()"
   ]
  },
  {
   "cell_type": "code",
   "execution_count": 39,
   "id": "d21669f3",
   "metadata": {},
   "outputs": [
    {
     "data": {
      "text/plain": [
       "0.00      6877\n",
       "0.99       104\n",
       "2.99        98\n",
       "4.99        61\n",
       "1.99        53\n",
       "          ... \n",
       "6.49         1\n",
       "1.29         1\n",
       "299.99       1\n",
       "379.99       1\n",
       "1.20         1\n",
       "Name: Price, Length: 68, dtype: int64"
      ]
     },
     "execution_count": 39,
     "metadata": {},
     "output_type": "execute_result"
    }
   ],
   "source": [
    "# Converting the datatype\n",
    "\n",
    "g_df['Price'] = pd.to_numeric(g_df['Price'], errors='coerce')\n",
    "g_df['Price'].value_counts()"
   ]
  },
  {
   "cell_type": "markdown",
   "id": "dad72c35",
   "metadata": {},
   "source": [
    "<html>\n",
    "    <head>\n",
    "        <body>\n",
    "            <h3><u><font color = green> Observations :</font></u></h3><br>\n",
    "            <li>In this code, the <b><i><font color=#C1063C>lambda function</font></i></b> is used to remove unwanted characters from the 'Price' column. </li><br>\n",
    "            <li>The regular expression 'dollar' matches the dollar sign  and they are replaced with an <b><i><font color=#C1063C>empty string.</font></i></b></li><br>\n",
    "            <li>After removing the unwanted characters, the <b><i><font color=#C1063C>pd.to_numeric()</font></i></b> function is applied to convert the 'Price' column to a numeric data type. </li><br>\n",
    "            <li>The <b><i><font color=#C1063C>errors='coerce' </font></i></b>parameter ensures that any non-numeric values are converted to NaN.</li><br>\n",
    "            <li>Finally, the code displays the first few rows of the updated DataFrame, including the treated and converted <b><i><font color=#C1063C>'Price'</font></i></b> column.</li><br>\n",
    "        </body>\n",
    "    </head>\n",
    "</html>"
   ]
  },
  {
   "cell_type": "markdown",
   "id": "bdb2c55b",
   "metadata": {},
   "source": [
    "--------------------------------------------------------------------------------------------------"
   ]
  },
  {
   "cell_type": "markdown",
   "id": "b8f36b7d",
   "metadata": {},
   "source": [
    "<html>\n",
    "<span style=\"font-family: Times New Roman; color:#000080; font-size: 18px;\">\n",
    "    <center><b><i>\n",
    "      12. Drop the columns which you think redundant for the analysis.(suggestion: drop column 'rating', since we created a new feature from it (i.e. rating_category) and the columns 'App', 'Rating' ,'Genres','Last Updated', 'Current Ver','Android Ver' columns since which are redundant for our analysis)</i></b>\n",
    "    </center>\n",
    "</span>\n",
    "</html>"
   ]
  },
  {
   "cell_type": "code",
   "execution_count": 40,
   "id": "3949b660",
   "metadata": {},
   "outputs": [
    {
     "data": {
      "text/plain": [
       "Index(['App', 'Category', 'Rating', 'Reviews', 'Size', 'Installs', 'Type',\n",
       "       'Price', 'Content Rating', 'Genres', 'Last Updated', 'Current Ver',\n",
       "       'Android Ver', 'Rating_category', 'Reviews_transformed'],\n",
       "      dtype='object')"
      ]
     },
     "execution_count": 40,
     "metadata": {},
     "output_type": "execute_result"
    }
   ],
   "source": [
    "# To view the columns in the dataset\n",
    "g_df.columns"
   ]
  },
  {
   "cell_type": "code",
   "execution_count": 41,
   "id": "c9ebec13",
   "metadata": {},
   "outputs": [],
   "source": [
    "# Storing the redundant columns in a vriable\n",
    "\n",
    "redundant_cols = ['App','Rating','Genres','Last Updated','Current Ver','Android Ver']\n",
    "g_df.drop(redundant_cols , axis=1, inplace = True)"
   ]
  },
  {
   "cell_type": "code",
   "execution_count": 42,
   "id": "5ce18ea5",
   "metadata": {
    "scrolled": true
   },
   "outputs": [
    {
     "name": "stdout",
     "output_type": "stream",
     "text": [
      "<class 'pandas.core.frame.DataFrame'>\n",
      "Int64Index: 7424 entries, 0 to 10840\n",
      "Data columns (total 9 columns):\n",
      " #   Column               Non-Null Count  Dtype  \n",
      "---  ------               --------------  -----  \n",
      " 0   Category             7424 non-null   object \n",
      " 1   Reviews              7424 non-null   int64  \n",
      " 2   Size                 7424 non-null   float64\n",
      " 3   Installs             7424 non-null   int64  \n",
      " 4   Type                 7424 non-null   object \n",
      " 5   Price                7424 non-null   float64\n",
      " 6   Content Rating       7424 non-null   object \n",
      " 7   Rating_category      7424 non-null   object \n",
      " 8   Reviews_transformed  7424 non-null   float64\n",
      "dtypes: float64(3), int64(2), object(4)\n",
      "memory usage: 580.0+ KB\n"
     ]
    }
   ],
   "source": [
    "g_df.info()"
   ]
  },
  {
   "cell_type": "markdown",
   "id": "91969e66",
   "metadata": {},
   "source": [
    "<html>\n",
    "    <head>\n",
    "        <body>\n",
    "            <h3><u><font color = green> Observations :</font></u></h3><br>\n",
    "            <li> In this code, the <b><i><font color=#C1063C>drop() function </font></i></b>is used to remove the redundant columns from the DataFrame. The redundant_columns list contains the column names that are to be dropped.</li><br>\n",
    "             <li> By specifying <b><i><font color=#C1063C>axis=1,</font></i></b> the columns are dropped along the <b><i><font color=#C1063C>horizontal axis.</font></i></b></li><br>\n",
    "             <li> Finally, the code displays the updated DataFrame after dropping the redundant columns.</li><br>\n",
    "             <li> The inference from this analysis is that the specified columns ('rating', 'App', 'Rating', 'Genres', 'Last Updated', 'Current Ver', 'Android Ver') have been dropped from the DataFrame. </li><br>\n",
    "             <li> These columns were considered redundant for the analysis, as we have already created the 'Rating_category' feature from the 'Rating' column and the other columns are not relevant for our analysis.</li><br> \n",
    "             <li> By dropping these columns, the DataFrame is streamlined and ready for further analysis or modeling tasks.</li><br>\n",
    "        </body>\n",
    "    </head>\n",
    "</html>"
   ]
  },
  {
   "cell_type": "markdown",
   "id": "14560edd",
   "metadata": {},
   "source": [
    "--------------------------------------------------------------------------------------------------"
   ]
  },
  {
   "cell_type": "markdown",
   "id": "2bafaf27",
   "metadata": {},
   "source": [
    "<html>\n",
    "<span style=\"font-family: Times New Roman; color:#000080; font-size: 18px;\">\n",
    "    <center><b><i>\n",
    "       13. Encode the categorical columns.</i></b>\n",
    "    </center>\n",
    "</span>\n",
    "</html>"
   ]
  },
  {
   "cell_type": "code",
   "execution_count": 43,
   "id": "50a8df74",
   "metadata": {},
   "outputs": [
    {
     "data": {
      "text/plain": [
       "Index(['Category', 'Reviews', 'Size', 'Installs', 'Type', 'Price',\n",
       "       'Content Rating', 'Rating_category', 'Reviews_transformed'],\n",
       "      dtype='object')"
      ]
     },
     "execution_count": 43,
     "metadata": {},
     "output_type": "execute_result"
    }
   ],
   "source": [
    "g_df.columns"
   ]
  },
  {
   "cell_type": "code",
   "execution_count": 44,
   "id": "3a9c6b6d",
   "metadata": {},
   "outputs": [
    {
     "data": {
      "text/html": [
       "<div>\n",
       "<style scoped>\n",
       "    .dataframe tbody tr th:only-of-type {\n",
       "        vertical-align: middle;\n",
       "    }\n",
       "\n",
       "    .dataframe tbody tr th {\n",
       "        vertical-align: top;\n",
       "    }\n",
       "\n",
       "    .dataframe thead th {\n",
       "        text-align: right;\n",
       "    }\n",
       "</style>\n",
       "<table border=\"1\" class=\"dataframe\">\n",
       "  <thead>\n",
       "    <tr style=\"text-align: right;\">\n",
       "      <th></th>\n",
       "      <th>Category</th>\n",
       "      <th>Reviews</th>\n",
       "      <th>Size</th>\n",
       "      <th>Installs</th>\n",
       "      <th>Type</th>\n",
       "      <th>Price</th>\n",
       "      <th>Content Rating</th>\n",
       "      <th>Rating_category</th>\n",
       "      <th>Reviews_transformed</th>\n",
       "    </tr>\n",
       "  </thead>\n",
       "  <tbody>\n",
       "    <tr>\n",
       "      <th>0</th>\n",
       "      <td>ART_AND_DESIGN</td>\n",
       "      <td>159</td>\n",
       "      <td>19000000.0</td>\n",
       "      <td>10000</td>\n",
       "      <td>Free</td>\n",
       "      <td>0.0</td>\n",
       "      <td>Everyone</td>\n",
       "      <td>High</td>\n",
       "      <td>5.075174</td>\n",
       "    </tr>\n",
       "    <tr>\n",
       "      <th>1</th>\n",
       "      <td>ART_AND_DESIGN</td>\n",
       "      <td>967</td>\n",
       "      <td>14000000.0</td>\n",
       "      <td>500000</td>\n",
       "      <td>Free</td>\n",
       "      <td>0.0</td>\n",
       "      <td>Everyone</td>\n",
       "      <td>High</td>\n",
       "      <td>6.875232</td>\n",
       "    </tr>\n",
       "    <tr>\n",
       "      <th>2</th>\n",
       "      <td>ART_AND_DESIGN</td>\n",
       "      <td>87510</td>\n",
       "      <td>8700000.0</td>\n",
       "      <td>5000000</td>\n",
       "      <td>Free</td>\n",
       "      <td>0.0</td>\n",
       "      <td>Everyone</td>\n",
       "      <td>High</td>\n",
       "      <td>11.379520</td>\n",
       "    </tr>\n",
       "    <tr>\n",
       "      <th>3</th>\n",
       "      <td>ART_AND_DESIGN</td>\n",
       "      <td>215644</td>\n",
       "      <td>25000000.0</td>\n",
       "      <td>50000000</td>\n",
       "      <td>Free</td>\n",
       "      <td>0.0</td>\n",
       "      <td>Teen</td>\n",
       "      <td>High</td>\n",
       "      <td>12.281389</td>\n",
       "    </tr>\n",
       "    <tr>\n",
       "      <th>4</th>\n",
       "      <td>ART_AND_DESIGN</td>\n",
       "      <td>967</td>\n",
       "      <td>2800000.0</td>\n",
       "      <td>100000</td>\n",
       "      <td>Free</td>\n",
       "      <td>0.0</td>\n",
       "      <td>Everyone</td>\n",
       "      <td>High</td>\n",
       "      <td>6.875232</td>\n",
       "    </tr>\n",
       "  </tbody>\n",
       "</table>\n",
       "</div>"
      ],
      "text/plain": [
       "         Category  Reviews        Size  Installs  Type  Price Content Rating  \\\n",
       "0  ART_AND_DESIGN      159  19000000.0     10000  Free    0.0       Everyone   \n",
       "1  ART_AND_DESIGN      967  14000000.0    500000  Free    0.0       Everyone   \n",
       "2  ART_AND_DESIGN    87510   8700000.0   5000000  Free    0.0       Everyone   \n",
       "3  ART_AND_DESIGN   215644  25000000.0  50000000  Free    0.0           Teen   \n",
       "4  ART_AND_DESIGN      967   2800000.0    100000  Free    0.0       Everyone   \n",
       "\n",
       "  Rating_category  Reviews_transformed  \n",
       "0            High             5.075174  \n",
       "1            High             6.875232  \n",
       "2            High            11.379520  \n",
       "3            High            12.281389  \n",
       "4            High             6.875232  "
      ]
     },
     "execution_count": 44,
     "metadata": {},
     "output_type": "execute_result"
    }
   ],
   "source": [
    "g_df.head()"
   ]
  },
  {
   "cell_type": "code",
   "execution_count": 45,
   "id": "46e97369",
   "metadata": {},
   "outputs": [
    {
     "data": {
      "text/plain": [
       "0        1\n",
       "1        1\n",
       "2        1\n",
       "3        1\n",
       "4        1\n",
       "        ..\n",
       "10833    1\n",
       "10834    1\n",
       "10836    1\n",
       "10837    1\n",
       "10840    1\n",
       "Name: Rating_category, Length: 7424, dtype: int64"
      ]
     },
     "execution_count": 45,
     "metadata": {},
     "output_type": "execute_result"
    }
   ],
   "source": [
    "# Changing the value from High to 1 and Low to 0\n",
    "\n",
    "g_df['Rating_category'] = g_df['Rating_category'].map({'High' : 1, 'Low' : 0})\n",
    "g_df['Rating_category']"
   ]
  },
  {
   "cell_type": "code",
   "execution_count": 46,
   "id": "7f7dd967",
   "metadata": {
    "scrolled": true
   },
   "outputs": [
    {
     "data": {
      "text/html": [
       "<div>\n",
       "<style scoped>\n",
       "    .dataframe tbody tr th:only-of-type {\n",
       "        vertical-align: middle;\n",
       "    }\n",
       "\n",
       "    .dataframe tbody tr th {\n",
       "        vertical-align: top;\n",
       "    }\n",
       "\n",
       "    .dataframe thead th {\n",
       "        text-align: right;\n",
       "    }\n",
       "</style>\n",
       "<table border=\"1\" class=\"dataframe\">\n",
       "  <thead>\n",
       "    <tr style=\"text-align: right;\">\n",
       "      <th></th>\n",
       "      <th>Reviews</th>\n",
       "      <th>Size</th>\n",
       "      <th>Installs</th>\n",
       "      <th>Price</th>\n",
       "      <th>Rating_category</th>\n",
       "      <th>Reviews_transformed</th>\n",
       "      <th>Category_ART_AND_DESIGN</th>\n",
       "      <th>Category_AUTO_AND_VEHICLES</th>\n",
       "      <th>Category_BEAUTY</th>\n",
       "      <th>Category_BOOKS_AND_REFERENCE</th>\n",
       "      <th>...</th>\n",
       "      <th>Category_VIDEO_PLAYERS</th>\n",
       "      <th>Category_WEATHER</th>\n",
       "      <th>Type_Free</th>\n",
       "      <th>Type_Paid</th>\n",
       "      <th>Content Rating_Adults only 18+</th>\n",
       "      <th>Content Rating_Everyone</th>\n",
       "      <th>Content Rating_Everyone 10+</th>\n",
       "      <th>Content Rating_Mature 17+</th>\n",
       "      <th>Content Rating_Teen</th>\n",
       "      <th>Content Rating_Unrated</th>\n",
       "    </tr>\n",
       "  </thead>\n",
       "  <tbody>\n",
       "    <tr>\n",
       "      <th>0</th>\n",
       "      <td>159</td>\n",
       "      <td>19000000.0</td>\n",
       "      <td>10000</td>\n",
       "      <td>0.0</td>\n",
       "      <td>1</td>\n",
       "      <td>5.075174</td>\n",
       "      <td>1</td>\n",
       "      <td>0</td>\n",
       "      <td>0</td>\n",
       "      <td>0</td>\n",
       "      <td>...</td>\n",
       "      <td>0</td>\n",
       "      <td>0</td>\n",
       "      <td>1</td>\n",
       "      <td>0</td>\n",
       "      <td>0</td>\n",
       "      <td>1</td>\n",
       "      <td>0</td>\n",
       "      <td>0</td>\n",
       "      <td>0</td>\n",
       "      <td>0</td>\n",
       "    </tr>\n",
       "    <tr>\n",
       "      <th>1</th>\n",
       "      <td>967</td>\n",
       "      <td>14000000.0</td>\n",
       "      <td>500000</td>\n",
       "      <td>0.0</td>\n",
       "      <td>1</td>\n",
       "      <td>6.875232</td>\n",
       "      <td>1</td>\n",
       "      <td>0</td>\n",
       "      <td>0</td>\n",
       "      <td>0</td>\n",
       "      <td>...</td>\n",
       "      <td>0</td>\n",
       "      <td>0</td>\n",
       "      <td>1</td>\n",
       "      <td>0</td>\n",
       "      <td>0</td>\n",
       "      <td>1</td>\n",
       "      <td>0</td>\n",
       "      <td>0</td>\n",
       "      <td>0</td>\n",
       "      <td>0</td>\n",
       "    </tr>\n",
       "    <tr>\n",
       "      <th>2</th>\n",
       "      <td>87510</td>\n",
       "      <td>8700000.0</td>\n",
       "      <td>5000000</td>\n",
       "      <td>0.0</td>\n",
       "      <td>1</td>\n",
       "      <td>11.379520</td>\n",
       "      <td>1</td>\n",
       "      <td>0</td>\n",
       "      <td>0</td>\n",
       "      <td>0</td>\n",
       "      <td>...</td>\n",
       "      <td>0</td>\n",
       "      <td>0</td>\n",
       "      <td>1</td>\n",
       "      <td>0</td>\n",
       "      <td>0</td>\n",
       "      <td>1</td>\n",
       "      <td>0</td>\n",
       "      <td>0</td>\n",
       "      <td>0</td>\n",
       "      <td>0</td>\n",
       "    </tr>\n",
       "    <tr>\n",
       "      <th>3</th>\n",
       "      <td>215644</td>\n",
       "      <td>25000000.0</td>\n",
       "      <td>50000000</td>\n",
       "      <td>0.0</td>\n",
       "      <td>1</td>\n",
       "      <td>12.281389</td>\n",
       "      <td>1</td>\n",
       "      <td>0</td>\n",
       "      <td>0</td>\n",
       "      <td>0</td>\n",
       "      <td>...</td>\n",
       "      <td>0</td>\n",
       "      <td>0</td>\n",
       "      <td>1</td>\n",
       "      <td>0</td>\n",
       "      <td>0</td>\n",
       "      <td>0</td>\n",
       "      <td>0</td>\n",
       "      <td>0</td>\n",
       "      <td>1</td>\n",
       "      <td>0</td>\n",
       "    </tr>\n",
       "    <tr>\n",
       "      <th>4</th>\n",
       "      <td>967</td>\n",
       "      <td>2800000.0</td>\n",
       "      <td>100000</td>\n",
       "      <td>0.0</td>\n",
       "      <td>1</td>\n",
       "      <td>6.875232</td>\n",
       "      <td>1</td>\n",
       "      <td>0</td>\n",
       "      <td>0</td>\n",
       "      <td>0</td>\n",
       "      <td>...</td>\n",
       "      <td>0</td>\n",
       "      <td>0</td>\n",
       "      <td>1</td>\n",
       "      <td>0</td>\n",
       "      <td>0</td>\n",
       "      <td>1</td>\n",
       "      <td>0</td>\n",
       "      <td>0</td>\n",
       "      <td>0</td>\n",
       "      <td>0</td>\n",
       "    </tr>\n",
       "  </tbody>\n",
       "</table>\n",
       "<p>5 rows × 47 columns</p>\n",
       "</div>"
      ],
      "text/plain": [
       "   Reviews        Size  Installs  Price  Rating_category  Reviews_transformed  \\\n",
       "0      159  19000000.0     10000    0.0                1             5.075174   \n",
       "1      967  14000000.0    500000    0.0                1             6.875232   \n",
       "2    87510   8700000.0   5000000    0.0                1            11.379520   \n",
       "3   215644  25000000.0  50000000    0.0                1            12.281389   \n",
       "4      967   2800000.0    100000    0.0                1             6.875232   \n",
       "\n",
       "   Category_ART_AND_DESIGN  Category_AUTO_AND_VEHICLES  Category_BEAUTY  \\\n",
       "0                        1                           0                0   \n",
       "1                        1                           0                0   \n",
       "2                        1                           0                0   \n",
       "3                        1                           0                0   \n",
       "4                        1                           0                0   \n",
       "\n",
       "   Category_BOOKS_AND_REFERENCE  ...  Category_VIDEO_PLAYERS  \\\n",
       "0                             0  ...                       0   \n",
       "1                             0  ...                       0   \n",
       "2                             0  ...                       0   \n",
       "3                             0  ...                       0   \n",
       "4                             0  ...                       0   \n",
       "\n",
       "   Category_WEATHER  Type_Free  Type_Paid  Content Rating_Adults only 18+  \\\n",
       "0                 0          1          0                               0   \n",
       "1                 0          1          0                               0   \n",
       "2                 0          1          0                               0   \n",
       "3                 0          1          0                               0   \n",
       "4                 0          1          0                               0   \n",
       "\n",
       "   Content Rating_Everyone  Content Rating_Everyone 10+  \\\n",
       "0                        1                            0   \n",
       "1                        1                            0   \n",
       "2                        1                            0   \n",
       "3                        0                            0   \n",
       "4                        1                            0   \n",
       "\n",
       "   Content Rating_Mature 17+  Content Rating_Teen  Content Rating_Unrated  \n",
       "0                          0                    0                       0  \n",
       "1                          0                    0                       0  \n",
       "2                          0                    0                       0  \n",
       "3                          0                    1                       0  \n",
       "4                          0                    0                       0  \n",
       "\n",
       "[5 rows x 47 columns]"
      ]
     },
     "execution_count": 46,
     "metadata": {},
     "output_type": "execute_result"
    }
   ],
   "source": [
    "\n",
    "g_df_encoded = pd.get_dummies(g_df)\n",
    "g_df_encoded.head()"
   ]
  },
  {
   "cell_type": "code",
   "execution_count": 47,
   "id": "7b1a1ba8",
   "metadata": {},
   "outputs": [
    {
     "name": "stdout",
     "output_type": "stream",
     "text": [
      "<class 'pandas.core.frame.DataFrame'>\n",
      "Int64Index: 7424 entries, 0 to 10840\n",
      "Data columns (total 47 columns):\n",
      " #   Column                          Non-Null Count  Dtype  \n",
      "---  ------                          --------------  -----  \n",
      " 0   Reviews                         7424 non-null   int64  \n",
      " 1   Size                            7424 non-null   float64\n",
      " 2   Installs                        7424 non-null   int64  \n",
      " 3   Price                           7424 non-null   float64\n",
      " 4   Rating_category                 7424 non-null   int64  \n",
      " 5   Reviews_transformed             7424 non-null   float64\n",
      " 6   Category_ART_AND_DESIGN         7424 non-null   uint8  \n",
      " 7   Category_AUTO_AND_VEHICLES      7424 non-null   uint8  \n",
      " 8   Category_BEAUTY                 7424 non-null   uint8  \n",
      " 9   Category_BOOKS_AND_REFERENCE    7424 non-null   uint8  \n",
      " 10  Category_BUSINESS               7424 non-null   uint8  \n",
      " 11  Category_COMICS                 7424 non-null   uint8  \n",
      " 12  Category_COMMUNICATION          7424 non-null   uint8  \n",
      " 13  Category_DATING                 7424 non-null   uint8  \n",
      " 14  Category_EDUCATION              7424 non-null   uint8  \n",
      " 15  Category_ENTERTAINMENT          7424 non-null   uint8  \n",
      " 16  Category_EVENTS                 7424 non-null   uint8  \n",
      " 17  Category_FAMILY                 7424 non-null   uint8  \n",
      " 18  Category_FINANCE                7424 non-null   uint8  \n",
      " 19  Category_FOOD_AND_DRINK         7424 non-null   uint8  \n",
      " 20  Category_GAME                   7424 non-null   uint8  \n",
      " 21  Category_HEALTH_AND_FITNESS     7424 non-null   uint8  \n",
      " 22  Category_HOUSE_AND_HOME         7424 non-null   uint8  \n",
      " 23  Category_LIBRARIES_AND_DEMO     7424 non-null   uint8  \n",
      " 24  Category_LIFESTYLE              7424 non-null   uint8  \n",
      " 25  Category_MAPS_AND_NAVIGATION    7424 non-null   uint8  \n",
      " 26  Category_MEDICAL                7424 non-null   uint8  \n",
      " 27  Category_NEWS_AND_MAGAZINES     7424 non-null   uint8  \n",
      " 28  Category_PARENTING              7424 non-null   uint8  \n",
      " 29  Category_PERSONALIZATION        7424 non-null   uint8  \n",
      " 30  Category_PHOTOGRAPHY            7424 non-null   uint8  \n",
      " 31  Category_PRODUCTIVITY           7424 non-null   uint8  \n",
      " 32  Category_SHOPPING               7424 non-null   uint8  \n",
      " 33  Category_SOCIAL                 7424 non-null   uint8  \n",
      " 34  Category_SPORTS                 7424 non-null   uint8  \n",
      " 35  Category_TOOLS                  7424 non-null   uint8  \n",
      " 36  Category_TRAVEL_AND_LOCAL       7424 non-null   uint8  \n",
      " 37  Category_VIDEO_PLAYERS          7424 non-null   uint8  \n",
      " 38  Category_WEATHER                7424 non-null   uint8  \n",
      " 39  Type_Free                       7424 non-null   uint8  \n",
      " 40  Type_Paid                       7424 non-null   uint8  \n",
      " 41  Content Rating_Adults only 18+  7424 non-null   uint8  \n",
      " 42  Content Rating_Everyone         7424 non-null   uint8  \n",
      " 43  Content Rating_Everyone 10+     7424 non-null   uint8  \n",
      " 44  Content Rating_Mature 17+       7424 non-null   uint8  \n",
      " 45  Content Rating_Teen             7424 non-null   uint8  \n",
      " 46  Content Rating_Unrated          7424 non-null   uint8  \n",
      "dtypes: float64(3), int64(3), uint8(41)\n",
      "memory usage: 703.2 KB\n"
     ]
    }
   ],
   "source": [
    "g_df_encoded.info()"
   ]
  },
  {
   "cell_type": "markdown",
   "id": "65c149f2",
   "metadata": {},
   "source": [
    "<html>\n",
    "    <head>\n",
    "        <body>\n",
    "            <h3><u><font color = green> Observations :</font></u></h3><br>\n",
    "            <li>In this code the target column is  <b><i><font color=#C1063C>'Rating category'</font></i></b> hence we change from categorical column to numerical column using the code -  <b><i><font color=#C1063C>g_df['Rating_category'].map({'High' : 1, 'Low' : 0})</font></i></b>  where values of  <b><i><font color=#C1063C>'High'</font></i></b>  are changed to  <b><i><font color=#C1063C>1 </font></i></b>and the values of  <b><i><font color=#C1063C>'Low'</font></i></b> are changed to  <b><i><font color=#C1063C>0</font></i></b></li><br>\n",
    "            <li>The dataset has been encoded by the code -  <b><i><font color=#C1063C>pd.get_dummies(g_df)</font></i></b> by getting dummies of the categorical column</li><br>\n",
    "                         </body>\n",
    "    </head>\n",
    "</html>"
   ]
  },
  {
   "cell_type": "markdown",
   "id": "10ed7a31",
   "metadata": {},
   "source": [
    "--------------------------------------------------------------------------------------------------"
   ]
  },
  {
   "cell_type": "markdown",
   "id": "8518b959",
   "metadata": {},
   "source": [
    "<html>\n",
    "<span style=\"font-family: Times New Roman; color:#000080; font-size: 18px;\">\n",
    "    <center><b><i>\n",
    "       14. Segregate the target and independent features (Hint: Use Rating_category as the target)</i></b>\n",
    "    </center>\n",
    "</span>\n",
    "</html>"
   ]
  },
  {
   "cell_type": "code",
   "execution_count": 48,
   "id": "ef259597",
   "metadata": {},
   "outputs": [],
   "source": [
    "# Segregate the target variable and independent features\n",
    "X = g_df_encoded.drop('Rating_category', axis=1)  # Independent features (all columns except 'Rating_category')\n",
    "\n",
    "y = g_df_encoded['Rating_category']  # Target variable"
   ]
  },
  {
   "cell_type": "code",
   "execution_count": 49,
   "id": "f4e0f716",
   "metadata": {},
   "outputs": [
    {
     "name": "stdout",
     "output_type": "stream",
     "text": [
      "Independent features (X):\n",
      "       Reviews        Size  Installs  Price  Reviews_transformed  \\\n",
      "0          159  19000000.0     10000    0.0             5.075174   \n",
      "1          967  14000000.0    500000    0.0             6.875232   \n",
      "2        87510   8700000.0   5000000    0.0            11.379520   \n",
      "3       215644  25000000.0  50000000    0.0            12.281389   \n",
      "4          967   2800000.0    100000    0.0             6.875232   \n",
      "...        ...         ...       ...    ...                  ...   \n",
      "10833       44    619000.0      1000    0.0             3.806662   \n",
      "10834        7   2600000.0       500    0.0             2.079442   \n",
      "10836       38  53000000.0      5000    0.0             3.663562   \n",
      "10837        4   3600000.0       100    0.0             1.609438   \n",
      "10840   398307  19000000.0  10000000    0.0            12.894981   \n",
      "\n",
      "       Category_ART_AND_DESIGN  Category_AUTO_AND_VEHICLES  Category_BEAUTY  \\\n",
      "0                            1                           0                0   \n",
      "1                            1                           0                0   \n",
      "2                            1                           0                0   \n",
      "3                            1                           0                0   \n",
      "4                            1                           0                0   \n",
      "...                        ...                         ...              ...   \n",
      "10833                        0                           0                0   \n",
      "10834                        0                           0                0   \n",
      "10836                        0                           0                0   \n",
      "10837                        0                           0                0   \n",
      "10840                        0                           0                0   \n",
      "\n",
      "       Category_BOOKS_AND_REFERENCE  Category_BUSINESS  ...  \\\n",
      "0                                 0                  0  ...   \n",
      "1                                 0                  0  ...   \n",
      "2                                 0                  0  ...   \n",
      "3                                 0                  0  ...   \n",
      "4                                 0                  0  ...   \n",
      "...                             ...                ...  ...   \n",
      "10833                             1                  0  ...   \n",
      "10834                             0                  0  ...   \n",
      "10836                             0                  0  ...   \n",
      "10837                             0                  0  ...   \n",
      "10840                             0                  0  ...   \n",
      "\n",
      "       Category_VIDEO_PLAYERS  Category_WEATHER  Type_Free  Type_Paid  \\\n",
      "0                           0                 0          1          0   \n",
      "1                           0                 0          1          0   \n",
      "2                           0                 0          1          0   \n",
      "3                           0                 0          1          0   \n",
      "4                           0                 0          1          0   \n",
      "...                       ...               ...        ...        ...   \n",
      "10833                       0                 0          1          0   \n",
      "10834                       0                 0          1          0   \n",
      "10836                       0                 0          1          0   \n",
      "10837                       0                 0          1          0   \n",
      "10840                       0                 0          1          0   \n",
      "\n",
      "       Content Rating_Adults only 18+  Content Rating_Everyone  \\\n",
      "0                                   0                        1   \n",
      "1                                   0                        1   \n",
      "2                                   0                        1   \n",
      "3                                   0                        0   \n",
      "4                                   0                        1   \n",
      "...                               ...                      ...   \n",
      "10833                               0                        1   \n",
      "10834                               0                        1   \n",
      "10836                               0                        1   \n",
      "10837                               0                        1   \n",
      "10840                               0                        1   \n",
      "\n",
      "       Content Rating_Everyone 10+  Content Rating_Mature 17+  \\\n",
      "0                                0                          0   \n",
      "1                                0                          0   \n",
      "2                                0                          0   \n",
      "3                                0                          0   \n",
      "4                                0                          0   \n",
      "...                            ...                        ...   \n",
      "10833                            0                          0   \n",
      "10834                            0                          0   \n",
      "10836                            0                          0   \n",
      "10837                            0                          0   \n",
      "10840                            0                          0   \n",
      "\n",
      "       Content Rating_Teen  Content Rating_Unrated  \n",
      "0                        0                       0  \n",
      "1                        0                       0  \n",
      "2                        0                       0  \n",
      "3                        1                       0  \n",
      "4                        0                       0  \n",
      "...                    ...                     ...  \n",
      "10833                    0                       0  \n",
      "10834                    0                       0  \n",
      "10836                    0                       0  \n",
      "10837                    0                       0  \n",
      "10840                    0                       0  \n",
      "\n",
      "[7424 rows x 46 columns]\n",
      "\n",
      "Target variable (y):\n",
      "0        1\n",
      "1        1\n",
      "2        1\n",
      "3        1\n",
      "4        1\n",
      "        ..\n",
      "10833    1\n",
      "10834    1\n",
      "10836    1\n",
      "10837    1\n",
      "10840    1\n",
      "Name: Rating_category, Length: 7424, dtype: int64\n"
     ]
    }
   ],
   "source": [
    "# Display the independent features (X) and target variable (y)\n",
    "print(\"Independent features (X):\")\n",
    "print(X)\n",
    "print(\"\\nTarget variable (y):\")\n",
    "print(y)\n"
   ]
  },
  {
   "cell_type": "code",
   "execution_count": 50,
   "id": "e63e2102",
   "metadata": {},
   "outputs": [
    {
     "data": {
      "text/plain": [
       "0        1\n",
       "1        1\n",
       "2        1\n",
       "3        1\n",
       "4        1\n",
       "        ..\n",
       "10833    1\n",
       "10834    1\n",
       "10836    1\n",
       "10837    1\n",
       "10840    1\n",
       "Name: Rating_category, Length: 7424, dtype: int64"
      ]
     },
     "execution_count": 50,
     "metadata": {},
     "output_type": "execute_result"
    }
   ],
   "source": [
    "y"
   ]
  },
  {
   "cell_type": "code",
   "execution_count": 51,
   "id": "871bbf6d",
   "metadata": {},
   "outputs": [
    {
     "data": {
      "text/html": [
       "<div>\n",
       "<style scoped>\n",
       "    .dataframe tbody tr th:only-of-type {\n",
       "        vertical-align: middle;\n",
       "    }\n",
       "\n",
       "    .dataframe tbody tr th {\n",
       "        vertical-align: top;\n",
       "    }\n",
       "\n",
       "    .dataframe thead th {\n",
       "        text-align: right;\n",
       "    }\n",
       "</style>\n",
       "<table border=\"1\" class=\"dataframe\">\n",
       "  <thead>\n",
       "    <tr style=\"text-align: right;\">\n",
       "      <th></th>\n",
       "      <th>Reviews</th>\n",
       "      <th>Size</th>\n",
       "      <th>Installs</th>\n",
       "      <th>Price</th>\n",
       "      <th>Reviews_transformed</th>\n",
       "      <th>Category_ART_AND_DESIGN</th>\n",
       "      <th>Category_AUTO_AND_VEHICLES</th>\n",
       "      <th>Category_BEAUTY</th>\n",
       "      <th>Category_BOOKS_AND_REFERENCE</th>\n",
       "      <th>Category_BUSINESS</th>\n",
       "      <th>...</th>\n",
       "      <th>Category_VIDEO_PLAYERS</th>\n",
       "      <th>Category_WEATHER</th>\n",
       "      <th>Type_Free</th>\n",
       "      <th>Type_Paid</th>\n",
       "      <th>Content Rating_Adults only 18+</th>\n",
       "      <th>Content Rating_Everyone</th>\n",
       "      <th>Content Rating_Everyone 10+</th>\n",
       "      <th>Content Rating_Mature 17+</th>\n",
       "      <th>Content Rating_Teen</th>\n",
       "      <th>Content Rating_Unrated</th>\n",
       "    </tr>\n",
       "  </thead>\n",
       "  <tbody>\n",
       "    <tr>\n",
       "      <th>0</th>\n",
       "      <td>159</td>\n",
       "      <td>19000000.0</td>\n",
       "      <td>10000</td>\n",
       "      <td>0.0</td>\n",
       "      <td>5.075174</td>\n",
       "      <td>1</td>\n",
       "      <td>0</td>\n",
       "      <td>0</td>\n",
       "      <td>0</td>\n",
       "      <td>0</td>\n",
       "      <td>...</td>\n",
       "      <td>0</td>\n",
       "      <td>0</td>\n",
       "      <td>1</td>\n",
       "      <td>0</td>\n",
       "      <td>0</td>\n",
       "      <td>1</td>\n",
       "      <td>0</td>\n",
       "      <td>0</td>\n",
       "      <td>0</td>\n",
       "      <td>0</td>\n",
       "    </tr>\n",
       "    <tr>\n",
       "      <th>1</th>\n",
       "      <td>967</td>\n",
       "      <td>14000000.0</td>\n",
       "      <td>500000</td>\n",
       "      <td>0.0</td>\n",
       "      <td>6.875232</td>\n",
       "      <td>1</td>\n",
       "      <td>0</td>\n",
       "      <td>0</td>\n",
       "      <td>0</td>\n",
       "      <td>0</td>\n",
       "      <td>...</td>\n",
       "      <td>0</td>\n",
       "      <td>0</td>\n",
       "      <td>1</td>\n",
       "      <td>0</td>\n",
       "      <td>0</td>\n",
       "      <td>1</td>\n",
       "      <td>0</td>\n",
       "      <td>0</td>\n",
       "      <td>0</td>\n",
       "      <td>0</td>\n",
       "    </tr>\n",
       "    <tr>\n",
       "      <th>2</th>\n",
       "      <td>87510</td>\n",
       "      <td>8700000.0</td>\n",
       "      <td>5000000</td>\n",
       "      <td>0.0</td>\n",
       "      <td>11.379520</td>\n",
       "      <td>1</td>\n",
       "      <td>0</td>\n",
       "      <td>0</td>\n",
       "      <td>0</td>\n",
       "      <td>0</td>\n",
       "      <td>...</td>\n",
       "      <td>0</td>\n",
       "      <td>0</td>\n",
       "      <td>1</td>\n",
       "      <td>0</td>\n",
       "      <td>0</td>\n",
       "      <td>1</td>\n",
       "      <td>0</td>\n",
       "      <td>0</td>\n",
       "      <td>0</td>\n",
       "      <td>0</td>\n",
       "    </tr>\n",
       "    <tr>\n",
       "      <th>3</th>\n",
       "      <td>215644</td>\n",
       "      <td>25000000.0</td>\n",
       "      <td>50000000</td>\n",
       "      <td>0.0</td>\n",
       "      <td>12.281389</td>\n",
       "      <td>1</td>\n",
       "      <td>0</td>\n",
       "      <td>0</td>\n",
       "      <td>0</td>\n",
       "      <td>0</td>\n",
       "      <td>...</td>\n",
       "      <td>0</td>\n",
       "      <td>0</td>\n",
       "      <td>1</td>\n",
       "      <td>0</td>\n",
       "      <td>0</td>\n",
       "      <td>0</td>\n",
       "      <td>0</td>\n",
       "      <td>0</td>\n",
       "      <td>1</td>\n",
       "      <td>0</td>\n",
       "    </tr>\n",
       "    <tr>\n",
       "      <th>4</th>\n",
       "      <td>967</td>\n",
       "      <td>2800000.0</td>\n",
       "      <td>100000</td>\n",
       "      <td>0.0</td>\n",
       "      <td>6.875232</td>\n",
       "      <td>1</td>\n",
       "      <td>0</td>\n",
       "      <td>0</td>\n",
       "      <td>0</td>\n",
       "      <td>0</td>\n",
       "      <td>...</td>\n",
       "      <td>0</td>\n",
       "      <td>0</td>\n",
       "      <td>1</td>\n",
       "      <td>0</td>\n",
       "      <td>0</td>\n",
       "      <td>1</td>\n",
       "      <td>0</td>\n",
       "      <td>0</td>\n",
       "      <td>0</td>\n",
       "      <td>0</td>\n",
       "    </tr>\n",
       "    <tr>\n",
       "      <th>...</th>\n",
       "      <td>...</td>\n",
       "      <td>...</td>\n",
       "      <td>...</td>\n",
       "      <td>...</td>\n",
       "      <td>...</td>\n",
       "      <td>...</td>\n",
       "      <td>...</td>\n",
       "      <td>...</td>\n",
       "      <td>...</td>\n",
       "      <td>...</td>\n",
       "      <td>...</td>\n",
       "      <td>...</td>\n",
       "      <td>...</td>\n",
       "      <td>...</td>\n",
       "      <td>...</td>\n",
       "      <td>...</td>\n",
       "      <td>...</td>\n",
       "      <td>...</td>\n",
       "      <td>...</td>\n",
       "      <td>...</td>\n",
       "      <td>...</td>\n",
       "    </tr>\n",
       "    <tr>\n",
       "      <th>10833</th>\n",
       "      <td>44</td>\n",
       "      <td>619000.0</td>\n",
       "      <td>1000</td>\n",
       "      <td>0.0</td>\n",
       "      <td>3.806662</td>\n",
       "      <td>0</td>\n",
       "      <td>0</td>\n",
       "      <td>0</td>\n",
       "      <td>1</td>\n",
       "      <td>0</td>\n",
       "      <td>...</td>\n",
       "      <td>0</td>\n",
       "      <td>0</td>\n",
       "      <td>1</td>\n",
       "      <td>0</td>\n",
       "      <td>0</td>\n",
       "      <td>1</td>\n",
       "      <td>0</td>\n",
       "      <td>0</td>\n",
       "      <td>0</td>\n",
       "      <td>0</td>\n",
       "    </tr>\n",
       "    <tr>\n",
       "      <th>10834</th>\n",
       "      <td>7</td>\n",
       "      <td>2600000.0</td>\n",
       "      <td>500</td>\n",
       "      <td>0.0</td>\n",
       "      <td>2.079442</td>\n",
       "      <td>0</td>\n",
       "      <td>0</td>\n",
       "      <td>0</td>\n",
       "      <td>0</td>\n",
       "      <td>0</td>\n",
       "      <td>...</td>\n",
       "      <td>0</td>\n",
       "      <td>0</td>\n",
       "      <td>1</td>\n",
       "      <td>0</td>\n",
       "      <td>0</td>\n",
       "      <td>1</td>\n",
       "      <td>0</td>\n",
       "      <td>0</td>\n",
       "      <td>0</td>\n",
       "      <td>0</td>\n",
       "    </tr>\n",
       "    <tr>\n",
       "      <th>10836</th>\n",
       "      <td>38</td>\n",
       "      <td>53000000.0</td>\n",
       "      <td>5000</td>\n",
       "      <td>0.0</td>\n",
       "      <td>3.663562</td>\n",
       "      <td>0</td>\n",
       "      <td>0</td>\n",
       "      <td>0</td>\n",
       "      <td>0</td>\n",
       "      <td>0</td>\n",
       "      <td>...</td>\n",
       "      <td>0</td>\n",
       "      <td>0</td>\n",
       "      <td>1</td>\n",
       "      <td>0</td>\n",
       "      <td>0</td>\n",
       "      <td>1</td>\n",
       "      <td>0</td>\n",
       "      <td>0</td>\n",
       "      <td>0</td>\n",
       "      <td>0</td>\n",
       "    </tr>\n",
       "    <tr>\n",
       "      <th>10837</th>\n",
       "      <td>4</td>\n",
       "      <td>3600000.0</td>\n",
       "      <td>100</td>\n",
       "      <td>0.0</td>\n",
       "      <td>1.609438</td>\n",
       "      <td>0</td>\n",
       "      <td>0</td>\n",
       "      <td>0</td>\n",
       "      <td>0</td>\n",
       "      <td>0</td>\n",
       "      <td>...</td>\n",
       "      <td>0</td>\n",
       "      <td>0</td>\n",
       "      <td>1</td>\n",
       "      <td>0</td>\n",
       "      <td>0</td>\n",
       "      <td>1</td>\n",
       "      <td>0</td>\n",
       "      <td>0</td>\n",
       "      <td>0</td>\n",
       "      <td>0</td>\n",
       "    </tr>\n",
       "    <tr>\n",
       "      <th>10840</th>\n",
       "      <td>398307</td>\n",
       "      <td>19000000.0</td>\n",
       "      <td>10000000</td>\n",
       "      <td>0.0</td>\n",
       "      <td>12.894981</td>\n",
       "      <td>0</td>\n",
       "      <td>0</td>\n",
       "      <td>0</td>\n",
       "      <td>0</td>\n",
       "      <td>0</td>\n",
       "      <td>...</td>\n",
       "      <td>0</td>\n",
       "      <td>0</td>\n",
       "      <td>1</td>\n",
       "      <td>0</td>\n",
       "      <td>0</td>\n",
       "      <td>1</td>\n",
       "      <td>0</td>\n",
       "      <td>0</td>\n",
       "      <td>0</td>\n",
       "      <td>0</td>\n",
       "    </tr>\n",
       "  </tbody>\n",
       "</table>\n",
       "<p>7424 rows × 46 columns</p>\n",
       "</div>"
      ],
      "text/plain": [
       "       Reviews        Size  Installs  Price  Reviews_transformed  \\\n",
       "0          159  19000000.0     10000    0.0             5.075174   \n",
       "1          967  14000000.0    500000    0.0             6.875232   \n",
       "2        87510   8700000.0   5000000    0.0            11.379520   \n",
       "3       215644  25000000.0  50000000    0.0            12.281389   \n",
       "4          967   2800000.0    100000    0.0             6.875232   \n",
       "...        ...         ...       ...    ...                  ...   \n",
       "10833       44    619000.0      1000    0.0             3.806662   \n",
       "10834        7   2600000.0       500    0.0             2.079442   \n",
       "10836       38  53000000.0      5000    0.0             3.663562   \n",
       "10837        4   3600000.0       100    0.0             1.609438   \n",
       "10840   398307  19000000.0  10000000    0.0            12.894981   \n",
       "\n",
       "       Category_ART_AND_DESIGN  Category_AUTO_AND_VEHICLES  Category_BEAUTY  \\\n",
       "0                            1                           0                0   \n",
       "1                            1                           0                0   \n",
       "2                            1                           0                0   \n",
       "3                            1                           0                0   \n",
       "4                            1                           0                0   \n",
       "...                        ...                         ...              ...   \n",
       "10833                        0                           0                0   \n",
       "10834                        0                           0                0   \n",
       "10836                        0                           0                0   \n",
       "10837                        0                           0                0   \n",
       "10840                        0                           0                0   \n",
       "\n",
       "       Category_BOOKS_AND_REFERENCE  Category_BUSINESS  ...  \\\n",
       "0                                 0                  0  ...   \n",
       "1                                 0                  0  ...   \n",
       "2                                 0                  0  ...   \n",
       "3                                 0                  0  ...   \n",
       "4                                 0                  0  ...   \n",
       "...                             ...                ...  ...   \n",
       "10833                             1                  0  ...   \n",
       "10834                             0                  0  ...   \n",
       "10836                             0                  0  ...   \n",
       "10837                             0                  0  ...   \n",
       "10840                             0                  0  ...   \n",
       "\n",
       "       Category_VIDEO_PLAYERS  Category_WEATHER  Type_Free  Type_Paid  \\\n",
       "0                           0                 0          1          0   \n",
       "1                           0                 0          1          0   \n",
       "2                           0                 0          1          0   \n",
       "3                           0                 0          1          0   \n",
       "4                           0                 0          1          0   \n",
       "...                       ...               ...        ...        ...   \n",
       "10833                       0                 0          1          0   \n",
       "10834                       0                 0          1          0   \n",
       "10836                       0                 0          1          0   \n",
       "10837                       0                 0          1          0   \n",
       "10840                       0                 0          1          0   \n",
       "\n",
       "       Content Rating_Adults only 18+  Content Rating_Everyone  \\\n",
       "0                                   0                        1   \n",
       "1                                   0                        1   \n",
       "2                                   0                        1   \n",
       "3                                   0                        0   \n",
       "4                                   0                        1   \n",
       "...                               ...                      ...   \n",
       "10833                               0                        1   \n",
       "10834                               0                        1   \n",
       "10836                               0                        1   \n",
       "10837                               0                        1   \n",
       "10840                               0                        1   \n",
       "\n",
       "       Content Rating_Everyone 10+  Content Rating_Mature 17+  \\\n",
       "0                                0                          0   \n",
       "1                                0                          0   \n",
       "2                                0                          0   \n",
       "3                                0                          0   \n",
       "4                                0                          0   \n",
       "...                            ...                        ...   \n",
       "10833                            0                          0   \n",
       "10834                            0                          0   \n",
       "10836                            0                          0   \n",
       "10837                            0                          0   \n",
       "10840                            0                          0   \n",
       "\n",
       "       Content Rating_Teen  Content Rating_Unrated  \n",
       "0                        0                       0  \n",
       "1                        0                       0  \n",
       "2                        0                       0  \n",
       "3                        1                       0  \n",
       "4                        0                       0  \n",
       "...                    ...                     ...  \n",
       "10833                    0                       0  \n",
       "10834                    0                       0  \n",
       "10836                    0                       0  \n",
       "10837                    0                       0  \n",
       "10840                    0                       0  \n",
       "\n",
       "[7424 rows x 46 columns]"
      ]
     },
     "execution_count": 51,
     "metadata": {},
     "output_type": "execute_result"
    }
   ],
   "source": [
    "X"
   ]
  },
  {
   "cell_type": "markdown",
   "id": "75812f29",
   "metadata": {},
   "source": [
    "<html>\n",
    "    <head>\n",
    "        <body>\n",
    "            <h3><u><font color = green> Observations :</font></u></h3><br>\n",
    "           <li> In this code, the <b><i><font color=#C1063C>drop() function </font></i></b> is used to remove the <b><i><font color=#C1063C>'Rating_category' </font></i></b> column from the DataFrame and assign the remaining columns to the 'X' variable, representing the independent features.\n",
    "           <li>The <b><i><font color=#C1063C>'Rating_category'  </font></i></b>column is assigned to the 'y' variable, representing the target variable.\n",
    "           <li>Finally, the code displays the first few rows of the independent features (X) and the target variable (y).\n",
    "           <li>The DataFrame has been segregated into independent features (X) and the target variable (y). \n",
    "           <li>    The independent features (X) include all the columns except for 'Rating_category', while the target variable (y) contains the 'Rating_category' column.\n",
    "           <li>    This separation allows for further analysis, feature engineering, and modeling tasks where we can use the independent features to predict the target variable.\n",
    "                 </body>\n",
    "    </head>\n",
    "</html>"
   ]
  },
  {
   "cell_type": "markdown",
   "id": "5df8dcdf",
   "metadata": {},
   "source": [
    "--------------------------------------------------------------------------------------------------"
   ]
  },
  {
   "cell_type": "markdown",
   "id": "a18cb2da",
   "metadata": {},
   "source": [
    "<html>\n",
    "<span style=\"font-family: Times New Roman; color:#000080; font-size: 18px;\">\n",
    "    <center><b><i>\n",
    "      15. Split the dataset into train and test.</i></b>\n",
    "    </center>\n",
    "</span>\n",
    "</html>"
   ]
  },
  {
   "cell_type": "code",
   "execution_count": 52,
   "id": "54d5e795",
   "metadata": {},
   "outputs": [
    {
     "name": "stdout",
     "output_type": "stream",
     "text": [
      "(5196, 46) (2228, 46)\n",
      "(5196,) (2228,)\n"
     ]
    }
   ],
   "source": [
    "from sklearn.model_selection import train_test_split\n",
    "\n",
    "# Split the dataset into train and test\n",
    "X_train, X_test, y_train, y_test = train_test_split(X,y, test_size=0.30, random_state=42)\n",
    "\n",
    "print(X_train.shape,X_test.shape)\n",
    "print(y_train.shape,y_test.shape)"
   ]
  },
  {
   "cell_type": "markdown",
   "id": "7deb382e",
   "metadata": {},
   "source": [
    "<html>\n",
    "    <head>\n",
    "        <body>\n",
    "            <h3><u><font color = green> Observations :</font></u></h3><br>\n",
    "           <li>In this code, the <b><i><font color=#C1063C>train_test_split  </font></i></b>function is used to split the dataset into training and testing sets. </li><br>\n",
    "           <li> The independent features (X) and the target variable (y) are passed as the function arguments. </li><br>\n",
    "            <li>The test_size parameter is set to <b><i><font color=#C1063C> 0.3,</font></i></b> which means that 30% of the data will be used for testing, while the remaining 70% will be used for training. </li><br>\n",
    "           <li> The random_state parameter is set to 42 to ensure <b><i><font color=#C1063C>reproducibility </font></i></b> of the split.</li><br>\n",
    "           <li> After splitting the dataset, the code displays the <b><i><font color=#C1063C>shapes of the training </font></i></b> and <b><i><font color=#C1063C>testing sets, </font></i></b> indicating the number of samples and features in each set.</li><br>\n",
    "            <li>The inference from this analysis is that the dataset has been split into <b><i><font color=#C1063C>training  </font></i></b>and <b><i><font color=#C1063C>testing  </font></i></b>sets.\n",
    "               <li>  The training set (X_train, y_train) contains 70% of the data, which will be used to train the model, while the testing set (X_test, y_test) contains 30% of the data, which will be used to evaluate the model's performance.</li><br>\n",
    "            <li>Splitting the dataset into train and test sets allows us to assess the model's generalization ability on unseen data.</li><br>\n",
    "                 </body>\n",
    "    </head>\n",
    "</html>"
   ]
  },
  {
   "cell_type": "markdown",
   "id": "3c1f5fab",
   "metadata": {},
   "source": [
    "--------------------------------------------------------------------------------------------------"
   ]
  },
  {
   "cell_type": "markdown",
   "id": "0a6d9d34",
   "metadata": {},
   "source": [
    "<html>\n",
    "<span style=\"font-family: Times New Roman; color:#000080; font-size: 18px;\">\n",
    "    <center><b><i>\n",
    "       16. Standardize the data, so that the values are within a particular range.</i></b>\n",
    "    </center>\n",
    "</span>\n",
    "</html>"
   ]
  },
  {
   "cell_type": "code",
   "execution_count": 53,
   "id": "692e2a66",
   "metadata": {},
   "outputs": [
    {
     "data": {
      "text/html": [
       "<style>#sk-container-id-1 {color: black;background-color: white;}#sk-container-id-1 pre{padding: 0;}#sk-container-id-1 div.sk-toggleable {background-color: white;}#sk-container-id-1 label.sk-toggleable__label {cursor: pointer;display: block;width: 100%;margin-bottom: 0;padding: 0.3em;box-sizing: border-box;text-align: center;}#sk-container-id-1 label.sk-toggleable__label-arrow:before {content: \"▸\";float: left;margin-right: 0.25em;color: #696969;}#sk-container-id-1 label.sk-toggleable__label-arrow:hover:before {color: black;}#sk-container-id-1 div.sk-estimator:hover label.sk-toggleable__label-arrow:before {color: black;}#sk-container-id-1 div.sk-toggleable__content {max-height: 0;max-width: 0;overflow: hidden;text-align: left;background-color: #f0f8ff;}#sk-container-id-1 div.sk-toggleable__content pre {margin: 0.2em;color: black;border-radius: 0.25em;background-color: #f0f8ff;}#sk-container-id-1 input.sk-toggleable__control:checked~div.sk-toggleable__content {max-height: 200px;max-width: 100%;overflow: auto;}#sk-container-id-1 input.sk-toggleable__control:checked~label.sk-toggleable__label-arrow:before {content: \"▾\";}#sk-container-id-1 div.sk-estimator input.sk-toggleable__control:checked~label.sk-toggleable__label {background-color: #d4ebff;}#sk-container-id-1 div.sk-label input.sk-toggleable__control:checked~label.sk-toggleable__label {background-color: #d4ebff;}#sk-container-id-1 input.sk-hidden--visually {border: 0;clip: rect(1px 1px 1px 1px);clip: rect(1px, 1px, 1px, 1px);height: 1px;margin: -1px;overflow: hidden;padding: 0;position: absolute;width: 1px;}#sk-container-id-1 div.sk-estimator {font-family: monospace;background-color: #f0f8ff;border: 1px dotted black;border-radius: 0.25em;box-sizing: border-box;margin-bottom: 0.5em;}#sk-container-id-1 div.sk-estimator:hover {background-color: #d4ebff;}#sk-container-id-1 div.sk-parallel-item::after {content: \"\";width: 100%;border-bottom: 1px solid gray;flex-grow: 1;}#sk-container-id-1 div.sk-label:hover label.sk-toggleable__label {background-color: #d4ebff;}#sk-container-id-1 div.sk-serial::before {content: \"\";position: absolute;border-left: 1px solid gray;box-sizing: border-box;top: 0;bottom: 0;left: 50%;z-index: 0;}#sk-container-id-1 div.sk-serial {display: flex;flex-direction: column;align-items: center;background-color: white;padding-right: 0.2em;padding-left: 0.2em;position: relative;}#sk-container-id-1 div.sk-item {position: relative;z-index: 1;}#sk-container-id-1 div.sk-parallel {display: flex;align-items: stretch;justify-content: center;background-color: white;position: relative;}#sk-container-id-1 div.sk-item::before, #sk-container-id-1 div.sk-parallel-item::before {content: \"\";position: absolute;border-left: 1px solid gray;box-sizing: border-box;top: 0;bottom: 0;left: 50%;z-index: -1;}#sk-container-id-1 div.sk-parallel-item {display: flex;flex-direction: column;z-index: 1;position: relative;background-color: white;}#sk-container-id-1 div.sk-parallel-item:first-child::after {align-self: flex-end;width: 50%;}#sk-container-id-1 div.sk-parallel-item:last-child::after {align-self: flex-start;width: 50%;}#sk-container-id-1 div.sk-parallel-item:only-child::after {width: 0;}#sk-container-id-1 div.sk-dashed-wrapped {border: 1px dashed gray;margin: 0 0.4em 0.5em 0.4em;box-sizing: border-box;padding-bottom: 0.4em;background-color: white;}#sk-container-id-1 div.sk-label label {font-family: monospace;font-weight: bold;display: inline-block;line-height: 1.2em;}#sk-container-id-1 div.sk-label-container {text-align: center;}#sk-container-id-1 div.sk-container {/* jupyter's `normalize.less` sets `[hidden] { display: none; }` but bootstrap.min.css set `[hidden] { display: none !important; }` so we also need the `!important` here to be able to override the default hidden behavior on the sphinx rendered scikit-learn.org. See: https://github.com/scikit-learn/scikit-learn/issues/21755 */display: inline-block !important;position: relative;}#sk-container-id-1 div.sk-text-repr-fallback {display: none;}</style><div id=\"sk-container-id-1\" class=\"sk-top-container\"><div class=\"sk-text-repr-fallback\"><pre>StandardScaler()</pre><b>In a Jupyter environment, please rerun this cell to show the HTML representation or trust the notebook. <br />On GitHub, the HTML representation is unable to render, please try loading this page with nbviewer.org.</b></div><div class=\"sk-container\" hidden><div class=\"sk-item\"><div class=\"sk-estimator sk-toggleable\"><input class=\"sk-toggleable__control sk-hidden--visually\" id=\"sk-estimator-id-1\" type=\"checkbox\" checked><label for=\"sk-estimator-id-1\" class=\"sk-toggleable__label sk-toggleable__label-arrow\">StandardScaler</label><div class=\"sk-toggleable__content\"><pre>StandardScaler()</pre></div></div></div></div></div>"
      ],
      "text/plain": [
       "StandardScaler()"
      ]
     },
     "execution_count": 53,
     "metadata": {},
     "output_type": "execute_result"
    }
   ],
   "source": [
    "from sklearn.preprocessing import StandardScaler\n",
    "\n",
    "ss = StandardScaler()\n",
    "ss"
   ]
  },
  {
   "cell_type": "code",
   "execution_count": 54,
   "id": "0b435664",
   "metadata": {},
   "outputs": [
    {
     "data": {
      "text/plain": [
       "((5196, 46), (2228, 46))"
      ]
     },
     "execution_count": 54,
     "metadata": {},
     "output_type": "execute_result"
    }
   ],
   "source": [
    "X_train = ss.fit_transform(X_train)\n",
    "X_test = ss.transform(X_test)\n",
    "\n",
    "X_train.shape,X_test.shape"
   ]
  },
  {
   "cell_type": "code",
   "execution_count": 55,
   "id": "2878e8ca",
   "metadata": {
    "scrolled": true
   },
   "outputs": [
    {
     "data": {
      "text/plain": [
       "array([[-0.16217307,  0.13906904, -0.16736566, ...,  4.63610898,\n",
       "        -0.3551589 , -0.01387418],\n",
       "       [-0.04828855, -0.50074741,  0.04580871, ..., -0.21569812,\n",
       "        -0.3551589 , -0.01387418],\n",
       "       [-0.15486002, -0.74387767, -0.14701233, ..., -0.21569812,\n",
       "        -0.3551589 , -0.01387418],\n",
       "       ...,\n",
       "       [-0.15246639, -0.41543855, -0.15772461, ..., -0.21569812,\n",
       "         2.81564114, -0.01387418],\n",
       "       [ 0.08762424,  0.48030449,  0.04580871, ..., -0.21569812,\n",
       "        -0.3551589 , -0.01387418],\n",
       "       [-0.16226396,  0.86419436, -0.16842618, ..., -0.21569812,\n",
       "        -0.3551589 , -0.01387418]])"
      ]
     },
     "execution_count": 55,
     "metadata": {},
     "output_type": "execute_result"
    }
   ],
   "source": [
    "X_train"
   ]
  },
  {
   "cell_type": "code",
   "execution_count": 56,
   "id": "e9f83a01",
   "metadata": {
    "scrolled": false
   },
   "outputs": [
    {
     "data": {
      "text/plain": [
       "array([[-0.0280171 ,  2.48506272, -0.06131409, ..., -0.21569812,\n",
       "         2.81564114, -0.01387418],\n",
       "       [-0.16221972, -0.64577248, -0.16822264, ..., -0.21569812,\n",
       "        -0.3551589 , -0.01387418],\n",
       "       [-0.1622233 , -0.8462483 , -0.16822264, ..., -0.21569812,\n",
       "        -0.3551589 , -0.01387418],\n",
       "       ...,\n",
       "       [-0.08896061,  0.30968677, -0.14701233, ..., -0.21569812,\n",
       "        -0.3551589 , -0.01387418],\n",
       "       [ 0.35031297, -0.63297615,  1.97401915, ..., -0.21569812,\n",
       "        -0.3551589 , -0.01387418],\n",
       "       [-0.15086445,  2.8689526 , -0.16629443, ..., -0.21569812,\n",
       "        -0.3551589 , -0.01387418]])"
      ]
     },
     "execution_count": 56,
     "metadata": {},
     "output_type": "execute_result"
    }
   ],
   "source": [
    "X_test"
   ]
  },
  {
   "cell_type": "markdown",
   "id": "f56e6c0d",
   "metadata": {},
   "source": [
    "<html>\n",
    "    <head>\n",
    "        <body>\n",
    "            <h3><u><font color = green> Observations :</font></u></h3><br>\n",
    "            <li>In this code, the <b><i><font color=#C1063C> StandardScaler</font></i></b> class is used to standardize the data.</li><br>\n",
    "            <li>First, an instance of the scaler is created. </li><br>\n",
    "            <li>Then, the <b><i><font color=#C1063C> fit_transform()</font></i></b> method is called on the training data (X_train) to calculate the mean and standard deviation required for standardization. </li><br>\n",
    "            <li>Next, the <b><i><font color=#C1063C> transform() </font></i></b>method is used to standardize both the training and testing data based on the calculated mean and standard deviation.</li><br>\n",
    "             <li>  Finally, the code displays the first few rows of the standardized training and testing data.\n",
    "             <li>The data has been standardized using the<b><i><font color=#C1063C>  StandardScaler.</font></i></b></li><br>\n",
    "            <li>Standardization brings the values of the features within a particular range by subtracting the mean and dividing by the standard deviation. </li><br>\n",
    "                  </body>\n",
    "    </head>\n",
    "</html>"
   ]
  },
  {
   "cell_type": "markdown",
   "id": "949cd26c",
   "metadata": {},
   "source": [
    "<html>\n",
    "    <head>\n",
    "      <b>  \n",
    "       <center>  <span style=\"font-family: Algerian; color:#000080;font-size:30px;\">Thank you</span></center> \n",
    "    <left>\n",
    "       <span style=\"font-family: Algerian; color:green;font-size:25px;\">By </span><br><br>\n",
    "        <span style=\"font-family: Algerian; color:#C1063C;font-size:25px;\">Anies Ghousia.J</span> \n",
    "           </left>\n",
    "           </b>\n",
    "        </head>\n",
    "    </html>\n",
    "        \n",
    "\n"
   ]
  },
  {
   "cell_type": "markdown",
   "id": "69a850c7",
   "metadata": {},
   "source": [
    "--------------------------------------------------------------------------------------------------"
   ]
  }
 ],
 "metadata": {
  "kernelspec": {
   "display_name": "Python 3 (ipykernel)",
   "language": "python",
   "name": "python3"
  },
  "language_info": {
   "codemirror_mode": {
    "name": "ipython",
    "version": 3
   },
   "file_extension": ".py",
   "mimetype": "text/x-python",
   "name": "python",
   "nbconvert_exporter": "python",
   "pygments_lexer": "ipython3",
   "version": "3.11.3"
  }
 },
 "nbformat": 4,
 "nbformat_minor": 5
}
